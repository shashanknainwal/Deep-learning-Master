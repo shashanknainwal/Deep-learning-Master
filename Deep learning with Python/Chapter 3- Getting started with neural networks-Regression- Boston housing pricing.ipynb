{
 "cells": [
  {
   "cell_type": "markdown",
   "metadata": {},
   "source": [
    "# Boston Housing Pricing- Regression"
   ]
  },
  {
   "cell_type": "code",
   "execution_count": 1,
   "metadata": {},
   "outputs": [
    {
     "name": "stderr",
     "output_type": "stream",
     "text": [
      "Using TensorFlow backend.\n"
     ]
    }
   ],
   "source": [
    "#imports\n",
    "from keras.datasets import boston_housing"
   ]
  },
  {
   "cell_type": "code",
   "execution_count": 2,
   "metadata": {
    "collapsed": true
   },
   "outputs": [],
   "source": [
    "(x_train, y_train), (x_test, y_test) = boston_housing.load_data()"
   ]
  },
  {
   "cell_type": "code",
   "execution_count": 3,
   "metadata": {},
   "outputs": [
    {
     "data": {
      "text/plain": [
       "(404, 13)"
      ]
     },
     "execution_count": 3,
     "metadata": {},
     "output_type": "execute_result"
    }
   ],
   "source": [
    "x_train.shape"
   ]
  },
  {
   "cell_type": "code",
   "execution_count": 4,
   "metadata": {},
   "outputs": [
    {
     "data": {
      "text/plain": [
       "(404,)"
      ]
     },
     "execution_count": 4,
     "metadata": {},
     "output_type": "execute_result"
    }
   ],
   "source": [
    "y_train.shape"
   ]
  },
  {
   "cell_type": "code",
   "execution_count": 5,
   "metadata": {},
   "outputs": [
    {
     "data": {
      "text/plain": [
       "(102, 13)"
      ]
     },
     "execution_count": 5,
     "metadata": {},
     "output_type": "execute_result"
    }
   ],
   "source": [
    "x_test.shape"
   ]
  },
  {
   "cell_type": "code",
   "execution_count": 6,
   "metadata": {},
   "outputs": [
    {
     "data": {
      "text/plain": [
       "(102,)"
      ]
     },
     "execution_count": 6,
     "metadata": {},
     "output_type": "execute_result"
    }
   ],
   "source": [
    "y_test.shape"
   ]
  },
  {
   "cell_type": "code",
   "execution_count": 7,
   "metadata": {},
   "outputs": [
    {
     "data": {
      "text/plain": [
       "array([ 15.2,  42.3,  50. ,  21.1,  17.7,  18.5,  11.3,  15.6,  15.6,\n",
       "        14.4,  12.1,  17.9,  23.1,  19.9,  15.7,   8.8,  50. ,  22.5,\n",
       "        24.1,  27.5,  10.9,  30.8,  32.9,  24. ,  18.5,  13.3,  22.9,\n",
       "        34.7,  16.6,  17.5,  22.3,  16.1,  14.9,  23.1,  34.9,  25. ,\n",
       "        13.9,  13.1,  20.4,  20. ,  15.2,  24.7,  22.2,  16.7,  12.7,\n",
       "        15.6,  18.4,  21. ,  30.1,  15.1,  18.7,   9.6,  31.5,  24.8,\n",
       "        19.1,  22. ,  14.5,  11. ,  32. ,  29.4,  20.3,  24.4,  14.6,\n",
       "        19.5,  14.1,  14.3,  15.6,  10.5,   6.3,  19.3,  19.3,  13.4,\n",
       "        36.4,  17.8,  13.5,  16.5,   8.3,  14.3,  16. ,  13.4,  28.6,\n",
       "        43.5,  20.2,  22. ,  23. ,  20.7,  12.5,  48.5,  14.6,  13.4,\n",
       "        23.7,  50. ,  21.7,  39.8,  38.7,  22.2,  34.9,  22.5,  31.1,\n",
       "        28.7,  46. ,  41.7,  21. ,  26.6,  15. ,  24.4,  13.3,  21.2,\n",
       "        11.7,  21.7,  19.4,  50. ,  22.8,  19.7,  24.7,  36.2,  14.2,\n",
       "        18.9,  18.3,  20.6,  24.6,  18.2,   8.7,  44. ,  10.4,  13.2,\n",
       "        21.2,  37. ,  30.7,  22.9,  20. ,  19.3,  31.7,  32. ,  23.1,\n",
       "        18.8,  10.9,  50. ,  19.6,   5. ,  14.4,  19.8,  13.8,  19.6,\n",
       "        23.9,  24.5,  25. ,  19.9,  17.2,  24.6,  13.5,  26.6,  21.4,\n",
       "        11.9,  22.6,  19.6,   8.5,  23.7,  23.1,  22.4,  20.5,  23.6,\n",
       "        18.4,  35.2,  23.1,  27.9,  20.6,  23.7,  28. ,  13.6,  27.1,\n",
       "        23.6,  20.6,  18.2,  21.7,  17.1,   8.4,  25.3,  13.8,  22.2,\n",
       "        18.4,  20.7,  31.6,  30.5,  20.3,   8.8,  19.2,  19.4,  23.1,\n",
       "        23. ,  14.8,  48.8,  22.6,  33.4,  21.1,  13.6,  32.2,  13.1,\n",
       "        23.4,  18.9,  23.9,  11.8,  23.3,  22.8,  19.6,  16.7,  13.4,\n",
       "        22.2,  20.4,  21.8,  26.4,  14.9,  24.1,  23.8,  12.3,  29.1,\n",
       "        21. ,  19.5,  23.3,  23.8,  17.8,  11.5,  21.7,  19.9,  25. ,\n",
       "        33.4,  28.5,  21.4,  24.3,  27.5,  33.1,  16.2,  23.3,  48.3,\n",
       "        22.9,  22.8,  13.1,  12.7,  22.6,  15. ,  15.3,  10.5,  24. ,\n",
       "        18.5,  21.7,  19.5,  33.2,  23.2,   5. ,  19.1,  12.7,  22.3,\n",
       "        10.2,  13.9,  16.3,  17. ,  20.1,  29.9,  17.2,  37.3,  45.4,\n",
       "        17.8,  23.2,  29. ,  22. ,  18. ,  17.4,  34.6,  20.1,  25. ,\n",
       "        15.6,  24.8,  28.2,  21.2,  21.4,  23.8,  31. ,  26.2,  17.4,\n",
       "        37.9,  17.5,  20. ,   8.3,  23.9,   8.4,  13.8,   7.2,  11.7,\n",
       "        17.1,  21.6,  50. ,  16.1,  20.4,  20.6,  21.4,  20.6,  36.5,\n",
       "         8.5,  24.8,  10.8,  21.9,  17.3,  18.9,  36.2,  14.9,  18.2,\n",
       "        33.3,  21.8,  19.7,  31.6,  24.8,  19.4,  22.8,   7.5,  44.8,\n",
       "        16.8,  18.7,  50. ,  50. ,  19.5,  20.1,  50. ,  17.2,  20.8,\n",
       "        19.3,  41.3,  20.4,  20.5,  13.8,  16.5,  23.9,  20.6,  31.5,\n",
       "        23.3,  16.8,  14. ,  33.8,  36.1,  12.8,  18.3,  18.7,  19.1,\n",
       "        29. ,  30.1,  50. ,  50. ,  22. ,  11.9,  37.6,  50. ,  22.7,\n",
       "        20.8,  23.5,  27.9,  50. ,  19.3,  23.9,  22.6,  15.2,  21.7,\n",
       "        19.2,  43.8,  20.3,  33.2,  19.9,  22.5,  32.7,  22. ,  17.1,\n",
       "        19. ,  15. ,  16.1,  25.1,  23.7,  28.7,  37.2,  22.6,  16.4,\n",
       "        25. ,  29.8,  22.1,  17.4,  18.1,  30.3,  17.5,  24.7,  12.6,\n",
       "        26.5,  28.7,  13.3,  10.4,  24.4,  23. ,  20. ,  17.8,   7. ,\n",
       "        11.8,  24.4,  13.8,  19.4,  25.2,  19.4,  19.4,  29.1])"
      ]
     },
     "execution_count": 7,
     "metadata": {},
     "output_type": "execute_result"
    }
   ],
   "source": [
    "y_train\n",
    "# median housing pricing in thousands of dollars"
   ]
  },
  {
   "cell_type": "markdown",
   "metadata": {},
   "source": [
    "# Data Preprocessing"
   ]
  },
  {
   "cell_type": "code",
   "execution_count": 8,
   "metadata": {
    "collapsed": true
   },
   "outputs": [],
   "source": [
    "#The idea behind StandardScaler is that it will transform your data such that its distribution will have a mean value 0 and standard deviation of 1.\n",
    "\n"
   ]
  },
  {
   "cell_type": "code",
   "execution_count": 9,
   "metadata": {
    "collapsed": true
   },
   "outputs": [],
   "source": [
    "## Method 1- Standard Scaler"
   ]
  },
  {
   "cell_type": "code",
   "execution_count": 10,
   "metadata": {
    "collapsed": true
   },
   "outputs": [],
   "source": [
    "from sklearn.preprocessing import StandardScaler"
   ]
  },
  {
   "cell_type": "code",
   "execution_count": 11,
   "metadata": {
    "collapsed": true
   },
   "outputs": [],
   "source": [
    "sc_X = StandardScaler()"
   ]
  },
  {
   "cell_type": "code",
   "execution_count": 12,
   "metadata": {
    "collapsed": true
   },
   "outputs": [],
   "source": [
    "x_train = sc_X.fit_transform(x_train)"
   ]
  },
  {
   "cell_type": "code",
   "execution_count": 13,
   "metadata": {
    "collapsed": true
   },
   "outputs": [],
   "source": [
    "x_test = sc_X.fit_transform(x_test)"
   ]
  },
  {
   "cell_type": "code",
   "execution_count": 14,
   "metadata": {},
   "outputs": [
    {
     "data": {
      "text/plain": [
       "array([[-0.27224633, -0.48361547, -0.43576161, ...,  1.14850044,\n",
       "         0.44807713,  0.8252202 ],\n",
       "       [-0.40342651,  2.99178419, -1.33391162, ..., -1.71818909,\n",
       "         0.43190599, -1.32920239],\n",
       "       [ 0.1249402 , -0.48361547,  1.0283258 , ...,  0.78447637,\n",
       "         0.22061726, -1.30850006],\n",
       "       ..., \n",
       "       [-0.40202987,  0.99079651, -0.7415148 , ..., -0.71712291,\n",
       "         0.07943894, -0.67776904],\n",
       "       [-0.17292018, -0.48361547,  1.24588095, ..., -1.71818909,\n",
       "        -0.98764362,  0.42083466],\n",
       "       [-0.40422614,  2.04394792, -1.20161456, ..., -1.30866202,\n",
       "         0.23317118, -1.15392266]])"
      ]
     },
     "execution_count": 14,
     "metadata": {},
     "output_type": "execute_result"
    }
   ],
   "source": [
    "x_train"
   ]
  },
  {
   "cell_type": "code",
   "execution_count": 15,
   "metadata": {},
   "outputs": [
    {
     "data": {
      "text/plain": [
       "(404, 13)"
      ]
     },
     "execution_count": 15,
     "metadata": {},
     "output_type": "execute_result"
    }
   ],
   "source": [
    "x_train.shape"
   ]
  },
  {
   "cell_type": "code",
   "execution_count": 16,
   "metadata": {
    "collapsed": true
   },
   "outputs": [],
   "source": [
    "from keras import models, layers"
   ]
  },
  {
   "cell_type": "code",
   "execution_count": 17,
   "metadata": {
    "collapsed": true
   },
   "outputs": [],
   "source": [
    "#create base model\n",
    "def base_model():\n",
    "    model= models.Sequential()\n",
    "    model.add(layers.Dense(64,activation='relu',input_shape=(x_train.shape[1],)))\n",
    "    model.add(layers.Dense(64,activation='relu'))\n",
    "    model.add(layers.Dense(1))\n",
    "    model.compile(optimizer='rmsprop',loss='mse',metrics=['MAE'])\n",
    "    return model\n"
   ]
  },
  {
   "cell_type": "markdown",
   "metadata": {},
   "source": [
    "## Create cross hold out validation set using K -fold Cross Validation"
   ]
  },
  {
   "cell_type": "code",
   "execution_count": 18,
   "metadata": {
    "collapsed": true
   },
   "outputs": [],
   "source": [
    "from keras.models import Sequential\n",
    "from keras.layers import Dense\n",
    "from sklearn.model_selection import StratifiedKFold\n",
    "import numpy"
   ]
  },
  {
   "cell_type": "markdown",
   "metadata": {},
   "source": [
    "## CV Method 1"
   ]
  },
  {
   "cell_type": "code",
   "execution_count": 19,
   "metadata": {},
   "outputs": [
    {
     "name": "stderr",
     "output_type": "stream",
     "text": [
      "/anaconda/lib/python3.6/site-packages/sklearn/model_selection/_split.py:597: Warning: The least populated class in y has only 1 members, which is too few. The minimum number of members in any class cannot be less than n_splits=10.\n",
      "  % (min_groups, self.n_splits)), Warning)\n"
     ]
    },
    {
     "name": "stdout",
     "output_type": "stream",
     "text": [
      "mean_absolute_error: 269.90%\n",
      "269.90% (+/- 0.00%)\n",
      "mean_absolute_error: 256.51%\n",
      "263.21% (+/- 6.69%)\n",
      "mean_absolute_error: 251.19%\n",
      "259.20% (+/- 7.87%)\n",
      "mean_absolute_error: 284.84%\n",
      "265.61% (+/- 13.03%)\n",
      "mean_absolute_error: 263.38%\n",
      "265.17% (+/- 11.69%)\n",
      "mean_absolute_error: 254.89%\n",
      "263.45% (+/- 11.33%)\n",
      "mean_absolute_error: 260.33%\n",
      "263.01% (+/- 10.55%)\n",
      "mean_absolute_error: 261.33%\n",
      "262.80% (+/- 9.88%)\n",
      "mean_absolute_error: 299.22%\n",
      "266.84% (+/- 14.76%)\n",
      "mean_absolute_error: 247.96%\n",
      "264.96% (+/- 15.11%)\n"
     ]
    }
   ],
   "source": [
    "kfold = StratifiedKFold(n_splits=10, shuffle=True, random_state=101)\n",
    "cvscores = []\n",
    "for train, test in kfold.split(x_train, y_train):\n",
    "  # create model\n",
    "    model = Sequential()\n",
    "    model= models.Sequential()\n",
    "    model.add(layers.Dense(64,activation='relu',input_shape=(x_train.shape[1],)))\n",
    "    model.add(layers.Dense(64,activation='relu'))\n",
    "    model.add(layers.Dense(1))\n",
    "    model.compile(optimizer='rmsprop',loss='mse',metrics=['MAE'])\n",
    "\n",
    "\n",
    "# Fit the model\n",
    "    model.fit(x_train, y_train, epochs=150, batch_size=10, verbose=0)\n",
    "# evaluate the model\n",
    "    scores = model.evaluate(x_test, y_test, verbose=0)\n",
    "    print(\"%s: %.2f%%\" % (model.metrics_names[1], scores[1]*100))\n",
    "    cvscores.append(scores[1] * 100)\n",
    "    print(\"%.2f%% (+/- %.2f%%)\" % (numpy.mean(cvscores), numpy.std(cvscores)))"
   ]
  },
  {
   "cell_type": "code",
   "execution_count": 20,
   "metadata": {},
   "outputs": [
    {
     "data": {
      "text/plain": [
       "264.95617847816618"
      ]
     },
     "execution_count": 20,
     "metadata": {},
     "output_type": "execute_result"
    }
   ],
   "source": [
    "numpy.mean(cvscores)"
   ]
  },
  {
   "cell_type": "code",
   "execution_count": 21,
   "metadata": {},
   "outputs": [
    {
     "data": {
      "text/plain": [
       "[269.90453589196301,\n",
       " 256.51495035956884,\n",
       " 251.19181240306182,\n",
       " 284.83675414440677,\n",
       " 263.38058826970121,\n",
       " 254.88658792832317,\n",
       " 260.33456933264637,\n",
       " 261.32997344521914,\n",
       " 299.22044136944936,\n",
       " 247.96157163732192]"
      ]
     },
     "execution_count": 21,
     "metadata": {},
     "output_type": "execute_result"
    }
   ],
   "source": [
    "cvscores"
   ]
  },
  {
   "cell_type": "markdown",
   "metadata": {},
   "source": [
    "## CV Method 2"
   ]
  },
  {
   "cell_type": "code",
   "execution_count": 22,
   "metadata": {},
   "outputs": [],
   "source": [
    "k=4\n",
    "no_of_val_sample= len(x_train)//k\n",
    "all_scores=[]\n"
   ]
  },
  {
   "cell_type": "code",
   "execution_count": 23,
   "metadata": {
    "collapsed": true
   },
   "outputs": [],
   "source": [
    "3import numpy as np"
   ]
  },
  {
   "cell_type": "markdown",
   "metadata": {},
   "source": [
    "for i in range(k):\n",
    "    val_data= x_train[i*no_of_val_sample:(i+1)*no_of_val_sample]\n",
    "    val_target= y_train[i*no_of_val_sample:(i+1)*no_of_val_sample]\n",
    "    partial_x_train= np.concatenate([x_train[:i*no_of_val_sample],x_train[(i+1)*no_of_val_sample:]],axis=0)\n",
    "    partial_y_train= np.concatenate([y_train[:i*no_of_val_sample],y_train[(i+1)*no_of_val_sample:]],axis=0)\n",
    "    model=base_model()\n",
    "    model.fit(partial_x_train, partial_y_train, epochs=150, batch_size=1, verbose=0)\n",
    "    val_mse,val_mae = model.evaluate(val_data, val_target, verbose=0)\n",
    "    all_scores.append(val_mae)\n",
    "    "
   ]
  },
  {
   "cell_type": "markdown",
   "metadata": {
    "collapsed": true
   },
   "source": [
    "scores"
   ]
  },
  {
   "cell_type": "markdown",
   "metadata": {
    "collapsed": true
   },
   "source": [
    "np.mean(scores)\n",
    "av. score are 6.7K off"
   ]
  },
  {
   "cell_type": "markdown",
   "metadata": {},
   "source": [
    "## Method 2- k Fold Cross validation"
   ]
  },
  {
   "cell_type": "code",
   "execution_count": 40,
   "metadata": {},
   "outputs": [
    {
     "name": "stdout",
     "output_type": "stream",
     "text": [
      "processing fold # 0\n",
      "processing fold # 1\n",
      "processing fold # 2\n",
      "processing fold # 3\n"
     ]
    }
   ],
   "source": [
    "import numpy as np\n",
    "\n",
    "k = 4\n",
    "num_val_samples = len(x_train) // k\n",
    "num_epochs = 100\n",
    "all_scores = []\n",
    "for i in range(k):\n",
    "    print('processing fold #', i)\n",
    "    # Prepare the validation data: data from partition # k\n",
    "    val_data = x_train[i * num_val_samples: (i + 1) * num_val_samples]\n",
    "    val_targets = y_train[i * num_val_samples: (i + 1) * num_val_samples]\n",
    "\n",
    "    # Prepare the training data: data from all other partitions\n",
    "    partial_train_data = np.concatenate(\n",
    "        [x_train[:i * num_val_samples],\n",
    "         x_train[(i + 1) * num_val_samples:]],\n",
    "        axis=0)\n",
    "    partial_train_targets = np.concatenate(\n",
    "        [y_train[:i * num_val_samples],\n",
    "         y_train[(i + 1) * num_val_samples:]],\n",
    "        axis=0)\n",
    "\n",
    "    # Build the Keras model (already compiled)\n",
    "    model = base_model()\n",
    "    # Train the model (in silent mode, verbose=0)\n",
    "    history=model.fit(partial_train_data, partial_train_targets,validation_data=(val_data,val_targets),\n",
    "              epochs=num_epochs, batch_size=1, verbose=0)\n",
    "    mae_history= history.history['val_mean_absolute_error']\n",
    "    # Evaluate the model on the validation data\n",
    "    #val_mse, val_mae = model.evaluate(val_data, val_targets, verbose=0)\n",
    "    all_scores.append(mae_history)"
   ]
  },
  {
   "cell_type": "code",
   "execution_count": 41,
   "metadata": {},
   "outputs": [
    {
     "data": {
      "text/plain": [
       "[[3.959186629493638,\n",
       "  3.3860895326822109,\n",
       "  3.1058683017692945,\n",
       "  2.7067759863220817,\n",
       "  2.590225059207123,\n",
       "  2.4574509988916984,\n",
       "  2.3679593718878111,\n",
       "  2.1887245225434255,\n",
       "  2.1211296213735449,\n",
       "  2.1673299298428073,\n",
       "  2.1239849033922251,\n",
       "  2.1253555411159404,\n",
       "  2.3093184008456693,\n",
       "  1.9571776437287283,\n",
       "  2.2223888529409277,\n",
       "  2.0089330578794575,\n",
       "  2.0380139209256312,\n",
       "  2.2335999554926804,\n",
       "  2.0176251430322627,\n",
       "  2.0132907924085561,\n",
       "  2.0838207207103765,\n",
       "  1.8725645612962176,\n",
       "  2.0483651774944645,\n",
       "  1.8930102716578114,\n",
       "  1.8394144265958579,\n",
       "  1.9298315614756971,\n",
       "  2.2952087893344388,\n",
       "  2.1353651651061409,\n",
       "  1.8023029270738657,\n",
       "  1.9656358284525353,\n",
       "  2.013659184521968,\n",
       "  1.8277322561434,\n",
       "  2.5605915371734316,\n",
       "  1.9121542543467909,\n",
       "  2.0010936661521987,\n",
       "  1.9408891791164284,\n",
       "  1.8253989880627925,\n",
       "  2.4064844528047167,\n",
       "  2.7573296575262995,\n",
       "  1.9101496309337049,\n",
       "  2.0729767544434803,\n",
       "  2.396961032754124,\n",
       "  2.160227057957413,\n",
       "  1.7980018653491936,\n",
       "  2.136800784875851,\n",
       "  2.0807625326779808,\n",
       "  2.0628477228750097,\n",
       "  1.9055138767355739,\n",
       "  2.0067423924361125,\n",
       "  2.1196775247554966,\n",
       "  1.9065409367627437,\n",
       "  1.9757129555881614,\n",
       "  2.005638339731953,\n",
       "  2.1572166197370777,\n",
       "  1.9833928759735409,\n",
       "  2.3442271629182421,\n",
       "  1.9518951755939145,\n",
       "  1.9450931265802667,\n",
       "  2.1717687644580805,\n",
       "  2.1083227667478051,\n",
       "  2.4354098763796364,\n",
       "  2.0963697055778883,\n",
       "  1.8382942369668791,\n",
       "  2.4225967048418404,\n",
       "  1.9563215935584342,\n",
       "  1.9406679502808222,\n",
       "  2.045194172623134,\n",
       "  2.0991964198575159,\n",
       "  1.9469608882866283,\n",
       "  1.9938787044865069,\n",
       "  2.036880375135063,\n",
       "  2.5448316489115799,\n",
       "  2.1456419973090144,\n",
       "  2.3068043076165834,\n",
       "  2.0518601955753741,\n",
       "  2.055162722521489,\n",
       "  1.9953436709866665,\n",
       "  2.0108624307235869,\n",
       "  1.9093110112860652,\n",
       "  2.3649518985559443,\n",
       "  1.9998700500714897,\n",
       "  3.008946465973807,\n",
       "  2.076990269198276,\n",
       "  2.1907973714394147,\n",
       "  2.2662670116613408,\n",
       "  2.1339072897882745,\n",
       "  2.1787615436138492,\n",
       "  2.0238616678974415,\n",
       "  2.1017495004257354,\n",
       "  2.0993520056847297,\n",
       "  2.8113924158681738,\n",
       "  2.4377300243566533,\n",
       "  2.1076863874303231,\n",
       "  2.3541122993620314,\n",
       "  2.4143269321706033,\n",
       "  2.3450312425594517,\n",
       "  2.1120293966614372,\n",
       "  2.1221609162812185,\n",
       "  1.9777280458129278,\n",
       "  2.2308231958068245],\n",
       " [3.742222578218668,\n",
       "  2.9040563791105063,\n",
       "  3.0582002602001226,\n",
       "  2.903299865156117,\n",
       "  2.8655579821898205,\n",
       "  2.7775468165331549,\n",
       "  2.6218676142173236,\n",
       "  2.7385199990603004,\n",
       "  2.7160180535646949,\n",
       "  2.667330335862566,\n",
       "  2.7984856190067706,\n",
       "  2.8447149295618037,\n",
       "  2.5797199825249097,\n",
       "  2.6474778298104162,\n",
       "  2.6592949782267654,\n",
       "  2.610355499947425,\n",
       "  2.554068140464254,\n",
       "  2.6018090295319509,\n",
       "  2.5179337888660998,\n",
       "  2.4523839761715123,\n",
       "  2.5423422473492008,\n",
       "  2.380287736949354,\n",
       "  2.5130860923540475,\n",
       "  2.8012204500708249,\n",
       "  2.4162478494172048,\n",
       "  2.4050719289496394,\n",
       "  2.4568300719308382,\n",
       "  2.7506988449852066,\n",
       "  2.5929249631296289,\n",
       "  2.5641951891455319,\n",
       "  2.4593827181523391,\n",
       "  2.567837960649245,\n",
       "  2.484779485381476,\n",
       "  2.2991373326518749,\n",
       "  2.4253204459010966,\n",
       "  2.383062778132977,\n",
       "  2.3615116459308285,\n",
       "  2.2836485947712815,\n",
       "  2.6143835511538063,\n",
       "  2.302521327934643,\n",
       "  2.6463201069595792,\n",
       "  2.2733159678997379,\n",
       "  2.3463251331064963,\n",
       "  2.6193183861156499,\n",
       "  2.5384364694651991,\n",
       "  2.5131956799195545,\n",
       "  2.2917582398594014,\n",
       "  2.4298998719394795,\n",
       "  2.3111511504296027,\n",
       "  2.4074487686157227,\n",
       "  2.4480684865819344,\n",
       "  2.7833570584212199,\n",
       "  2.3061520510380813,\n",
       "  2.5690894835066089,\n",
       "  2.7616926419852983,\n",
       "  2.6171709334496223,\n",
       "  2.408965601779447,\n",
       "  2.7726370792577764,\n",
       "  2.357262408379281,\n",
       "  2.3405227566709614,\n",
       "  2.197213111537518,\n",
       "  2.6359307553508495,\n",
       "  2.2907778909890957,\n",
       "  2.3901631194766204,\n",
       "  2.2884161731984354,\n",
       "  2.5959038262320036,\n",
       "  2.4824900155020231,\n",
       "  2.414785847805514,\n",
       "  2.4120691743227516,\n",
       "  2.4934235846642219,\n",
       "  2.8411605853845576,\n",
       "  2.6190726780655362,\n",
       "  3.0675673626437048,\n",
       "  2.1950533932978562,\n",
       "  2.277557349441075,\n",
       "  2.6673434606873161,\n",
       "  2.9235182847126877,\n",
       "  2.6423069038013423,\n",
       "  2.5591174682768263,\n",
       "  2.3558589066609299,\n",
       "  2.6313528636894605,\n",
       "  2.4549214297001907,\n",
       "  2.5999443413007377,\n",
       "  2.7295523728474533,\n",
       "  2.4388177607319141,\n",
       "  2.5215820321942322,\n",
       "  2.7819979167220614,\n",
       "  2.436903217051289,\n",
       "  2.2873561500322701,\n",
       "  2.8289712395998512,\n",
       "  2.8606833042484698,\n",
       "  2.6919299399498664,\n",
       "  2.6162674497849872,\n",
       "  2.9546486788456985,\n",
       "  2.9317078826451066,\n",
       "  2.787404730768487,\n",
       "  2.4509396269769952,\n",
       "  2.7608838600687462,\n",
       "  2.7886033577494103,\n",
       "  2.9130725955018901],\n",
       " [4.1187835636705454,\n",
       "  3.2668006538164498,\n",
       "  2.8920525843554206,\n",
       "  2.6414339282725119,\n",
       "  3.3522049837773391,\n",
       "  2.5279473503037253,\n",
       "  2.4719498039472221,\n",
       "  2.5016727541932964,\n",
       "  2.527089836573837,\n",
       "  2.5123947658161128,\n",
       "  2.5504144465569221,\n",
       "  2.5130547509335055,\n",
       "  2.5796514902964676,\n",
       "  2.6250536748678379,\n",
       "  2.4841396407325669,\n",
       "  2.5397232263395102,\n",
       "  2.6014164981275503,\n",
       "  2.5017666675076624,\n",
       "  2.439261474231682,\n",
       "  2.44658622647276,\n",
       "  2.7025864856077892,\n",
       "  2.5421671395254606,\n",
       "  2.3976214758240348,\n",
       "  2.4476638123540595,\n",
       "  2.451144553647183,\n",
       "  2.5430532918118014,\n",
       "  2.4678074392941918,\n",
       "  2.4072893539277636,\n",
       "  2.3659054170740714,\n",
       "  2.3143644474520544,\n",
       "  2.4289568249541933,\n",
       "  2.3113662039879523,\n",
       "  2.4499621296873189,\n",
       "  2.4160453210962882,\n",
       "  2.6559256704727021,\n",
       "  2.4758353941511402,\n",
       "  2.641456197984148,\n",
       "  2.776579167583201,\n",
       "  2.511967361563503,\n",
       "  2.5478607262715256,\n",
       "  2.380482768068219,\n",
       "  2.4014689237764566,\n",
       "  2.4439573004694268,\n",
       "  2.4092256574347468,\n",
       "  2.7099960534879477,\n",
       "  2.3907321703315962,\n",
       "  2.5713848642783588,\n",
       "  2.674336872478523,\n",
       "  2.9496042421548672,\n",
       "  2.4602838459581431,\n",
       "  2.5221267407483392,\n",
       "  2.7147922704715541,\n",
       "  2.561139767712886,\n",
       "  2.6967794777143119,\n",
       "  2.5595379159002021,\n",
       "  2.5559112293885486,\n",
       "  2.852999791060344,\n",
       "  2.5398719900905498,\n",
       "  2.58400831600227,\n",
       "  2.430919387552998,\n",
       "  2.574871865829619,\n",
       "  2.4714996130159586,\n",
       "  2.6267084933743616,\n",
       "  2.5974098809874886,\n",
       "  2.5472847258690559,\n",
       "  2.5408012748944877,\n",
       "  2.8205005626867314,\n",
       "  2.5828961759510607,\n",
       "  2.4894641460758624,\n",
       "  2.5300249345231762,\n",
       "  2.4674638899246064,\n",
       "  2.5465810180890678,\n",
       "  2.6714831342791565,\n",
       "  2.658510708572841,\n",
       "  2.6824707276750317,\n",
       "  2.6306854002546558,\n",
       "  2.8334557467167922,\n",
       "  2.9603713384949333,\n",
       "  2.6061553671808526,\n",
       "  2.6987794885540954,\n",
       "  2.5788800315101548,\n",
       "  2.6363369403499188,\n",
       "  2.7326219388754063,\n",
       "  2.6965654864169584,\n",
       "  2.6446435852806167,\n",
       "  2.6582182799235428,\n",
       "  2.6512184331912807,\n",
       "  2.6114706473775429,\n",
       "  2.7114454496024858,\n",
       "  2.7122909999129794,\n",
       "  2.6790977515796626,\n",
       "  2.6774871372940519,\n",
       "  2.647457000052575,\n",
       "  2.6484453371255703,\n",
       "  2.7608147139596468,\n",
       "  2.6201083683731534,\n",
       "  2.8319082826671034,\n",
       "  2.7504083614538213,\n",
       "  2.6394558897112854,\n",
       "  2.7980063410088567],\n",
       " [4.9976643760605617,\n",
       "  3.8084041104458346,\n",
       "  3.2647510755180131,\n",
       "  2.7634834629474301,\n",
       "  3.1323321125294901,\n",
       "  2.7420459501814136,\n",
       "  2.5968394798807579,\n",
       "  3.0137932182538627,\n",
       "  2.6669106530671072,\n",
       "  2.5680476462486945,\n",
       "  2.8695031251057541,\n",
       "  2.6201424929175046,\n",
       "  2.5924047054630694,\n",
       "  2.6821773925630175,\n",
       "  2.7796616459837056,\n",
       "  2.4853744034719938,\n",
       "  2.6115665058098219,\n",
       "  2.5572245097396396,\n",
       "  2.5568213793310788,\n",
       "  2.6725064645899406,\n",
       "  2.6408691122980401,\n",
       "  2.5114235311451525,\n",
       "  2.7130061045731648,\n",
       "  2.5438382838032032,\n",
       "  2.4911373865486373,\n",
       "  2.4256239220647529,\n",
       "  2.4873624933828222,\n",
       "  2.7824871044347783,\n",
       "  2.4481676498262011,\n",
       "  2.5865516851444057,\n",
       "  2.6551180310768658,\n",
       "  2.3901348019590474,\n",
       "  2.3676355003130318,\n",
       "  2.6114891543246732,\n",
       "  2.6382117932385736,\n",
       "  2.5285542270924783,\n",
       "  2.4899894789894028,\n",
       "  2.5920623647104395,\n",
       "  2.4249434140649173,\n",
       "  2.4510666545074766,\n",
       "  2.5846849479297602,\n",
       "  2.4098515463347483,\n",
       "  2.5492141695305852,\n",
       "  2.5110741700276291,\n",
       "  2.5228838873381663,\n",
       "  2.6440524677238844,\n",
       "  2.5624988716427644,\n",
       "  2.5136736501561532,\n",
       "  2.5137014861154086,\n",
       "  2.50778070770868,\n",
       "  2.369614596414094,\n",
       "  2.5455911277544381,\n",
       "  2.5862204580023738,\n",
       "  2.6147905387500727,\n",
       "  2.3739190998643931,\n",
       "  2.5092434080520478,\n",
       "  2.4152179661363657,\n",
       "  2.7157031097034419,\n",
       "  2.4709228052951322,\n",
       "  2.4742360256686071,\n",
       "  2.6760778757605221,\n",
       "  2.874565056054899,\n",
       "  2.30919349783718,\n",
       "  2.4229061579940341,\n",
       "  2.3744421288518622,\n",
       "  2.3963709727372273,\n",
       "  2.4261825249926878,\n",
       "  2.4030037587231927,\n",
       "  2.5816979006965561,\n",
       "  2.914867325584487,\n",
       "  2.4546380515145785,\n",
       "  2.37745738265538,\n",
       "  2.6062009263746808,\n",
       "  2.499274475739734,\n",
       "  2.4869668389310933,\n",
       "  2.638175326998871,\n",
       "  2.3680396410498288,\n",
       "  2.3951282076316303,\n",
       "  2.5157673476946236,\n",
       "  2.631528353927159,\n",
       "  2.3550327178275232,\n",
       "  2.4958160702544863,\n",
       "  2.4370930926634533,\n",
       "  2.4819316509926672,\n",
       "  2.4424011589276908,\n",
       "  2.4377615522630145,\n",
       "  2.880247172742787,\n",
       "  2.4333388498514004,\n",
       "  2.5081222930757128,\n",
       "  2.3510295660188882,\n",
       "  2.4673750471360614,\n",
       "  2.4041210212329829,\n",
       "  2.4975062219223174,\n",
       "  2.4306512634352884,\n",
       "  2.4521823071017126,\n",
       "  2.7351249562631739,\n",
       "  2.5175443403791675,\n",
       "  2.561797519721607,\n",
       "  2.570579448548874,\n",
       "  2.4591419389932461]]"
      ]
     },
     "execution_count": 41,
     "metadata": {},
     "output_type": "execute_result"
    }
   ],
   "source": [
    "all_scores"
   ]
  },
  {
   "cell_type": "code",
   "execution_count": 52,
   "metadata": {},
   "outputs": [
    {
     "data": {
      "text/plain": [
       "[4.2044642868608531,\n",
       " 3.3413376690137504,\n",
       " 3.0802180554607128,\n",
       " 2.7537483106745353,\n",
       " 2.9850800344259429,\n",
       " 2.6262477789774978,\n",
       " 2.5146540674832787,\n",
       " 2.6106776235127214,\n",
       " 2.507787041144796,\n",
       " 2.4787756694425456,\n",
       " 2.585597023515418,\n",
       " 2.5258169286321888,\n",
       " 2.5152736447825292,\n",
       " 2.4779716352425001,\n",
       " 2.5363712794709912,\n",
       " 2.4110965469095964,\n",
       " 2.4512662663318143,\n",
       " 2.4736000405679834,\n",
       " 2.3829104463652806,\n",
       " 2.3961918649106924,\n",
       " 2.4924046414913517,\n",
       " 2.3266107422290458,\n",
       " 2.4180197125614278,\n",
       " 2.4214332044714748,\n",
       " 2.2994860540522204,\n",
       " 2.3258951760754729,\n",
       " 2.4268021984855728,\n",
       " 2.5189601171134726,\n",
       " 2.3023252392759419,\n",
       " 2.3576867875486318,\n",
       " 2.3892791896763415,\n",
       " 2.2742678056849113,\n",
       " 2.4657421631388146,\n",
       " 2.3097065156049066,\n",
       " 2.4301378939411427,\n",
       " 2.332085394623256,\n",
       " 2.3295890777417929,\n",
       " 2.5146936449674095,\n",
       " 2.5771559960771313,\n",
       " 2.3028995849118372,\n",
       " 2.4211161443502598,\n",
       " 2.3703993676912667,\n",
       " 2.3749309152659803,\n",
       " 2.3344050197318049,\n",
       " 2.4770292987917912,\n",
       " 2.4071857126632539,\n",
       " 2.3721224246638837,\n",
       " 2.3808560678274326,\n",
       " 2.4452998177839977,\n",
       " 2.3737977117595106,\n",
       " 2.3115876901267778,\n",
       " 2.5048633530588433,\n",
       " 2.3647876541213235,\n",
       " 2.5094690299270179,\n",
       " 2.4196356334308584,\n",
       " 2.5066381834521154,\n",
       " 2.4072696336425174,\n",
       " 2.4933263264080088,\n",
       " 2.395990573533691,\n",
       " 2.3385002341600929,\n",
       " 2.4708931823768241,\n",
       " 2.5195912824998987,\n",
       " 2.266243529791879,\n",
       " 2.4582689658249954,\n",
       " 2.291616155369447,\n",
       " 2.3684360060361351,\n",
       " 2.4435918189511443,\n",
       " 2.3749705505843206,\n",
       " 2.3575480273454494,\n",
       " 2.4830486373145981,\n",
       " 2.4500357254897014,\n",
       " 2.5219856819303912,\n",
       " 2.6227233551516393,\n",
       " 2.4149107213067538,\n",
       " 2.3747137779056438,\n",
       " 2.4978417276155831,\n",
       " 2.530089335866494,\n",
       " 2.5021672201628733,\n",
       " 2.3975877986095919,\n",
       " 2.5127796619245322,\n",
       " 2.391283915774657,\n",
       " 2.6490052265696007,\n",
       " 2.4616624105094682,\n",
       " 2.5247117204241234,\n",
       " 2.4480323791503906,\n",
       " 2.4378672885422659,\n",
       " 2.6230562665674944,\n",
       " 2.3763935955444184,\n",
       " 2.402168348284051,\n",
       " 2.4979109528041121,\n",
       " 2.7046371297080918,\n",
       " 2.5528170307083884,\n",
       " 2.4672292647975507,\n",
       " 2.5969643946921472,\n",
       " 2.639757958969267,\n",
       " 2.6219173244910663,\n",
       " 2.4781054116711756,\n",
       " 2.548812664381348,\n",
       " 2.4940916854556248,\n",
       " 2.6002610178277044]"
      ]
     },
     "execution_count": 52,
     "metadata": {},
     "output_type": "execute_result"
    }
   ],
   "source": [
    "avg_all_scores=[np.mean([x[i] for x in all_scores]) for i in range(num_epochs)]\n",
    "avg_all_scores"
   ]
  },
  {
   "cell_type": "code",
   "execution_count": 55,
   "metadata": {},
   "outputs": [
    {
     "data": {
      "image/png": "[encoded data removed]",
      "text/plain": [
       "<matplotlib.figure.Figure at 0x125b22278>"
      ]
     },
     "metadata": {},
     "output_type": "display_data"
    }
   ],
   "source": [
    "plt.plot(range(1,len(avg_all_scores)+1),avg_all_scores)\n",
    "plt.ylabel(\"MAE score\")\n",
    "plt.show()"
   ]
  },
  {
   "cell_type": "code",
   "execution_count": null,
   "metadata": {
    "collapsed": true
   },
   "outputs": [],
   "source": [
    "#look for best parameters- no pf epochs in this case- "
   ]
  },
  {
   "cell_type": "code",
   "execution_count": 56,
   "metadata": {
    "collapsed": true
   },
   "outputs": [],
   "source": [
    "# Train final model with best features"
   ]
  },
  {
   "cell_type": "code",
   "execution_count": null,
   "metadata": {
    "collapsed": true
   },
   "outputs": [],
   "source": []
  },
  {
   "cell_type": "code",
   "execution_count": null,
   "metadata": {
    "collapsed": true
   },
   "outputs": [],
   "source": []
  },
  {
   "cell_type": "code",
   "execution_count": null,
   "metadata": {
    "collapsed": true
   },
   "outputs": [],
   "source": []
  },
  {
   "cell_type": "code",
   "execution_count": null,
   "metadata": {
    "collapsed": true
   },
   "outputs": [],
   "source": []
  },
  {
   "cell_type": "code",
   "execution_count": null,
   "metadata": {
    "collapsed": true
   },
   "outputs": [],
   "source": []
  },
  {
   "cell_type": "code",
   "execution_count": null,
   "metadata": {
    "collapsed": true
   },
   "outputs": [],
   "source": []
  },
  {
   "cell_type": "code",
   "execution_count": 26,
   "metadata": {},
   "outputs": [
    {
     "data": {
      "text/plain": [
       "[2.0934012172245744,\n",
       " 2.4567395814574593,\n",
       " 2.7914296660092797,\n",
       " 2.5629287946342241]"
      ]
     },
     "execution_count": 26,
     "metadata": {},
     "output_type": "execute_result"
    }
   ],
   "source": [
    "all_scores"
   ]
  },
  {
   "cell_type": "code",
   "execution_count": 31,
   "metadata": {},
   "outputs": [
    {
     "data": {
      "text/plain": [
       "2.4761248148313841"
      ]
     },
     "execution_count": 31,
     "metadata": {},
     "output_type": "execute_result"
    }
   ],
   "source": [
    "np.mean(all_scores)\n",
    "#avera 2.4K difference"
   ]
  },
  {
   "cell_type": "code",
   "execution_count": 33,
   "metadata": {},
   "outputs": [],
   "source": [
    "import matplotlib.pyplot as plt"
   ]
  },
  {
   "cell_type": "code",
   "execution_count": 37,
   "metadata": {},
   "outputs": [
    {
     "name": "stdout",
     "output_type": "stream",
     "text": [
      "_________________________________________________________________\n",
      "Layer (type)                 Output Shape              Param #   \n",
      "=================================================================\n",
      "dense_46 (Dense)             (None, 64)                896       \n",
      "_________________________________________________________________\n",
      "dense_47 (Dense)             (None, 64)                4160      \n",
      "_________________________________________________________________\n",
      "dense_48 (Dense)             (None, 1)                 65        \n",
      "=================================================================\n",
      "Total params: 5,121\n",
      "Trainable params: 5,121\n",
      "Non-trainable params: 0\n",
      "_________________________________________________________________\n"
     ]
    }
   ],
   "source": [
    "model.summary()\n"
   ]
  },
  {
   "cell_type": "code",
   "execution_count": 38,
   "metadata": {},
   "outputs": [
    {
     "ename": "AttributeError",
     "evalue": "'Sequential' object has no attribute 'history'",
     "output_type": "error",
     "traceback": [
      "\u001b[0;31m---------------------------------------------------------------------------\u001b[0m",
      "\u001b[0;31mAttributeError\u001b[0m                            Traceback (most recent call last)",
      "\u001b[0;32m<ipython-input-38-20c05c4cff7f>\u001b[0m in \u001b[0;36m<module>\u001b[0;34m()\u001b[0m\n\u001b[0;32m----> 1\u001b[0;31m \u001b[0mmodel\u001b[0m\u001b[0;34m.\u001b[0m\u001b[0mhistory\u001b[0m\u001b[0;34m[\u001b[0m\u001b[0;34m'val_mean_absolute_error'\u001b[0m\u001b[0;34m]\u001b[0m\u001b[0;34m\u001b[0m\u001b[0m\n\u001b[0m",
      "\u001b[0;31mAttributeError\u001b[0m: 'Sequential' object has no attribute 'history'"
     ]
    }
   ],
   "source": []
  },
  {
   "cell_type": "code",
   "execution_count": null,
   "metadata": {
    "collapsed": true
   },
   "outputs": [],
   "source": []
  }
 ],
 "metadata": {
  "kernelspec": {
   "display_name": "Python 3",
   "language": "python",
   "name": "python3"
  },
  "language_info": {
   "codemirror_mode": {
    "name": "ipython",
    "version": 3
   },
   "file_extension": ".py",
   "mimetype": "text/x-python",
   "name": "python",
   "nbconvert_exporter": "python",
   "pygments_lexer": "ipython3",
   "version": "3.6.2"
  }
 },
 "nbformat": 4,
 "nbformat_minor": 2
}
