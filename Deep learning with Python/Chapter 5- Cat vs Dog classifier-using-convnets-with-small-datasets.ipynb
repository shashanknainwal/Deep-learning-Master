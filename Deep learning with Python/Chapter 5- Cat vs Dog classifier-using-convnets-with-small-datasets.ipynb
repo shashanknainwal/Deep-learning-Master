{
 "cells": [
  {
   "cell_type": "code",
   "execution_count": 1,
   "metadata": {
    "collapsed": true
   },
   "outputs": [],
   "source": [
    "import os, shutil"
   ]
  },
  {
   "cell_type": "code",
   "execution_count": 2,
   "metadata": {},
   "outputs": [
    {
     "data": {
      "text/plain": [
       "'/Users/shashank/Desktop/Deep Learning April 2018/Deep_learning_with_Python'"
      ]
     },
     "execution_count": 2,
     "metadata": {},
     "output_type": "execute_result"
    }
   ],
   "source": [
    "\n",
    "cwd = os.getcwd()\n",
    "cwd"
   ]
  },
  {
   "cell_type": "code",
   "execution_count": 15,
   "metadata": {},
   "outputs": [],
   "source": [
    "# The path to the directory where the original\n",
    "# dataset was uncompressed\n",
    "original_dataset_dir = '/Users/shashank/Desktop/Deep Learning April 2018/Deep_learning_with_Python/kaggle_original_data'\n",
    "\n",
    "# The directory where we will\n",
    "# store our smaller dataset\n",
    "base_dir = '/Users/shashank/Desktop/Deep Learning April 2018/Deep_learning_with_Python/cats_and_dogs_small'\n",
    "\n",
    "# The path to the directory where the original\n",
    "# dataset was uncompressed\n",
    "#original_dataset_dir = '/Users/shashank/Downloads/SpringboardDatascience/_1Deeplearning/Deep_learning_with_Python/Chapter5_assignment/kaggle_original_data'\n",
    "\n",
    "# The directory where we will\n",
    "# store our smaller dataset\n",
    "#base_dir = '/Users/shashank/Downloads/SpringboardDatascience/_1Deeplearning/Deep_learning_with_Python/Chapter5_assignment/cats_and_dogs_small'\n",
    "os.mkdir(base_dir)\n",
    "\n",
    "# Directories for our training,\n",
    "# validation and test splits\n",
    "train_dir = os.path.join(base_dir, 'train')\n",
    "os.mkdir(train_dir)\n",
    "validation_dir = os.path.join(base_dir, 'validation')\n",
    "os.mkdir(validation_dir)\n",
    "test_dir = os.path.join(base_dir, 'test')\n",
    "os.mkdir(test_dir)\n",
    "\n",
    "# Directory with our training cat pictures\n",
    "train_cats_dir = os.path.join(train_dir, 'cats')\n",
    "os.mkdir(train_cats_dir)\n",
    "\n",
    "# Directory with our training dog pictures\n",
    "train_dogs_dir = os.path.join(train_dir, 'dogs')\n",
    "os.mkdir(train_dogs_dir)\n",
    "\n",
    "# Directory with our validation cat pictures\n",
    "validation_cats_dir = os.path.join(validation_dir, 'cats')\n",
    "os.mkdir(validation_cats_dir)\n",
    "\n",
    "# Directory with our validation dog pictures\n",
    "validation_dogs_dir = os.path.join(validation_dir, 'dogs')\n",
    "os.mkdir(validation_dogs_dir)\n",
    "\n",
    "# Directory with our validation cat pictures\n",
    "test_cats_dir = os.path.join(test_dir, 'cats')\n",
    "os.mkdir(test_cats_dir)\n",
    "\n",
    "# Directory with our validation dog pictures\n",
    "test_dogs_dir = os.path.join(test_dir, 'dogs')\n",
    "os.mkdir(test_dogs_dir)\n",
    "\n",
    "# Copy first 1000 cat images to train_cats_dir\n",
    "fnames = ['cat.{}.jpg'.format(i) for i in range(1000)]\n",
    "for fname in fnames:\n",
    "    src = os.path.join(original_dataset_dir, fname)\n",
    "    dst = os.path.join(train_cats_dir, fname)\n",
    "    shutil.copyfile(src, dst)\n",
    "\n",
    "# Copy next 500 cat images to validation_cats_dir\n",
    "fnames = ['cat.{}.jpg'.format(i) for i in range(1000, 1500)]\n",
    "for fname in fnames:\n",
    "    src = os.path.join(original_dataset_dir, fname)\n",
    "    dst = os.path.join(validation_cats_dir, fname)\n",
    "    shutil.copyfile(src, dst)\n",
    "    \n",
    "# Copy next 500 cat images to test_cats_dir\n",
    "fnames = ['cat.{}.jpg'.format(i) for i in range(1500, 2000)]\n",
    "for fname in fnames:\n",
    "    src = os.path.join(original_dataset_dir, fname)\n",
    "    dst = os.path.join(test_cats_dir, fname)\n",
    "    shutil.copyfile(src, dst)\n",
    "    \n",
    "# Copy first 1000 dog images to train_dogs_dir\n",
    "fnames = ['dog.{}.jpg'.format(i) for i in range(1000)]\n",
    "for fname in fnames:\n",
    "    src = os.path.join(original_dataset_dir, fname)\n",
    "    dst = os.path.join(train_dogs_dir, fname)\n",
    "    shutil.copyfile(src, dst)\n",
    "    \n",
    "# Copy next 500 dog images to validation_dogs_dir\n",
    "fnames = ['dog.{}.jpg'.format(i) for i in range(1000, 1500)]\n",
    "for fname in fnames:\n",
    "    src = os.path.join(original_dataset_dir, fname)\n",
    "    dst = os.path.join(validation_dogs_dir, fname)\n",
    "    shutil.copyfile(src, dst)\n",
    "    \n",
    "# Copy next 500 dog images to test_dogs_dir\n",
    "fnames = ['dog.{}.jpg'.format(i) for i in range(1500, 2000)]\n",
    "for fname in fnames:\n",
    "    src = os.path.join(original_dataset_dir, fname)\n",
    "    dst = os.path.join(test_dogs_dir, fname)\n",
    "    shutil.copyfile(src, dst)"
   ]
  },
  {
   "cell_type": "code",
   "execution_count": 16,
   "metadata": {},
   "outputs": [
    {
     "name": "stdout",
     "output_type": "stream",
     "text": [
      "total training cat images: 1000\n"
     ]
    }
   ],
   "source": [
    "print('total training cat images:',len(os.listdir(train_cats_dir)))"
   ]
  },
  {
   "cell_type": "code",
   "execution_count": 17,
   "metadata": {},
   "outputs": [
    {
     "name": "stdout",
     "output_type": "stream",
     "text": [
      "total training dog images: 1000\n"
     ]
    }
   ],
   "source": [
    "print('total training dog images:',len(os.listdir(train_dogs_dir)))"
   ]
  },
  {
   "cell_type": "code",
   "execution_count": 18,
   "metadata": {},
   "outputs": [
    {
     "name": "stdout",
     "output_type": "stream",
     "text": [
      "total validation dog images: 500\n"
     ]
    }
   ],
   "source": [
    "print('total validation dog images:',len(os.listdir(validation_dogs_dir)))"
   ]
  },
  {
   "cell_type": "code",
   "execution_count": 19,
   "metadata": {},
   "outputs": [
    {
     "name": "stdout",
     "output_type": "stream",
     "text": [
      "total validation cat images: 500\n"
     ]
    }
   ],
   "source": [
    "print('total validation cat images:',len(os.listdir(validation_cats_dir)))"
   ]
  },
  {
   "cell_type": "code",
   "execution_count": 20,
   "metadata": {},
   "outputs": [
    {
     "name": "stdout",
     "output_type": "stream",
     "text": [
      "total test dog images: 500\n"
     ]
    }
   ],
   "source": [
    "print('total test dog images:',len(os.listdir(test_dogs_dir)))"
   ]
  },
  {
   "cell_type": "code",
   "execution_count": 21,
   "metadata": {},
   "outputs": [
    {
     "name": "stdout",
     "output_type": "stream",
     "text": [
      "total test cat images: 500\n"
     ]
    }
   ],
   "source": [
    "print('total test cat images:',len(os.listdir(test_cats_dir)))"
   ]
  },
  {
   "cell_type": "markdown",
   "metadata": {},
   "source": [
    "There are 2000 training images, 1000 validation images, 1000 test images. "
   ]
  },
  {
   "cell_type": "markdown",
   "metadata": {},
   "source": [
    "## Build network"
   ]
  },
  {
   "cell_type": "code",
   "execution_count": 22,
   "metadata": {},
   "outputs": [
    {
     "name": "stderr",
     "output_type": "stream",
     "text": [
      "Using TensorFlow backend.\n"
     ]
    }
   ],
   "source": [
    "from keras import models, layers"
   ]
  },
  {
   "cell_type": "code",
   "execution_count": 23,
   "metadata": {
    "collapsed": true
   },
   "outputs": [],
   "source": [
    " model= models.Sequential()"
   ]
  },
  {
   "cell_type": "code",
   "execution_count": 24,
   "metadata": {
    "collapsed": true
   },
   "outputs": [],
   "source": [
    "model.add(layers.Conv2D(32,(3,3),activation='relu',input_shape=(150,150,3)))\n",
    "model.add(layers.MaxPool2D((2,2),strides=None, padding='valid'))\n",
    "model.add(layers.Conv2D(64,(3,3),activation='relu'))\n",
    "model.add(layers.MaxPool2D((2,2),strides=None, padding='valid'))\n",
    "model.add(layers.Conv2D(128,(3,3),activation='relu'))\n",
    "model.add(layers.MaxPool2D((2,2),strides=None, padding='valid'))\n",
    "model.add(layers.Flatten())\n",
    "model.add(layers.Dense(512,activation='relu'))\n",
    "model.add(layers.Dense(1,activation='sigmoid'))\n",
    "          \n"
   ]
  },
  {
   "cell_type": "code",
   "execution_count": 25,
   "metadata": {},
   "outputs": [
    {
     "name": "stdout",
     "output_type": "stream",
     "text": [
      "_________________________________________________________________\n",
      "Layer (type)                 Output Shape              Param #   \n",
      "=================================================================\n",
      "conv2d_1 (Conv2D)            (None, 148, 148, 32)      896       \n",
      "_________________________________________________________________\n",
      "max_pooling2d_1 (MaxPooling2 (None, 74, 74, 32)        0         \n",
      "_________________________________________________________________\n",
      "conv2d_2 (Conv2D)            (None, 72, 72, 64)        18496     \n",
      "_________________________________________________________________\n",
      "max_pooling2d_2 (MaxPooling2 (None, 36, 36, 64)        0         \n",
      "_________________________________________________________________\n",
      "conv2d_3 (Conv2D)            (None, 34, 34, 128)       73856     \n",
      "_________________________________________________________________\n",
      "max_pooling2d_3 (MaxPooling2 (None, 17, 17, 128)       0         \n",
      "_________________________________________________________________\n",
      "flatten_1 (Flatten)          (None, 36992)             0         \n",
      "_________________________________________________________________\n",
      "dense_1 (Dense)              (None, 512)               18940416  \n",
      "_________________________________________________________________\n",
      "dense_2 (Dense)              (None, 1)                 513       \n",
      "=================================================================\n",
      "Total params: 19,034,177\n",
      "Trainable params: 19,034,177\n",
      "Non-trainable params: 0\n",
      "_________________________________________________________________\n"
     ]
    }
   ],
   "source": [
    "model.summary()"
   ]
  },
  {
   "cell_type": "code",
   "execution_count": 37,
   "metadata": {
    "collapsed": true
   },
   "outputs": [],
   "source": [
    "model.compile(optimizer='rmsprop',loss='binary_crossentropy',metrics=['acc'])"
   ]
  },
  {
   "cell_type": "markdown",
   "metadata": {},
   "source": [
    "## Data Proprocessing"
   ]
  },
  {
   "cell_type": "markdown",
   "metadata": {},
   "source": [
    "The data should be in appropriate preprocessed floating point tensors before being fed into network. Currently the data sits in the drive as JPEG and steps for getting into network is as follows\n",
    "1. Read the picture files\n",
    "2. Decode JPEG content to RGB grids\n",
    "3. convert these into floating point tensors\n",
    "4. Rescale the pixels to [0,1]."
   ]
  },
  {
   "cell_type": "code",
   "execution_count": null,
   "metadata": {
    "collapsed": true
   },
   "outputs": [],
   "source": [
    "### ImageDataGenerator to read images from directory"
   ]
  },
  {
   "cell_type": "code",
   "execution_count": 27,
   "metadata": {},
   "outputs": [
    {
     "data": {
      "text/plain": [
       "'/Users/shashank/Desktop/Deep Learning April 2018/Deep_learning_with_Python/cats_and_dogs_small/train'"
      ]
     },
     "execution_count": 27,
     "metadata": {},
     "output_type": "execute_result"
    }
   ],
   "source": [
    "train_dir"
   ]
  },
  {
   "cell_type": "code",
   "execution_count": 28,
   "metadata": {},
   "outputs": [
    {
     "name": "stdout",
     "output_type": "stream",
     "text": [
      "Found 2000 images belonging to 2 classes.\n",
      "Found 1000 images belonging to 2 classes.\n"
     ]
    }
   ],
   "source": [
    "from keras.preprocessing.image import ImageDataGenerator\n",
    "\n",
    "# All images will be rescaled by 1./255\n",
    "train_datagen = ImageDataGenerator(rescale=1./255)\n",
    "test_datagen = ImageDataGenerator(rescale=1./255)\n",
    "\n",
    "train_generator = train_datagen.flow_from_directory(\n",
    "        # This is the target directory\n",
    "        train_dir,\n",
    "        # All images will be resized to 150x150\n",
    "        target_size=(150, 150),\n",
    "        batch_size=20,\n",
    "        # Since we use binary_crossentropy loss, we need binary labels\n",
    "        class_mode='binary')\n",
    "\n",
    "validation_generator = test_datagen.flow_from_directory(\n",
    "        validation_dir,\n",
    "        target_size=(150, 150),\n",
    "        batch_size=20,\n",
    "        class_mode='binary')"
   ]
  },
  {
   "cell_type": "markdown",
   "metadata": {},
   "source": [
    "## Fit the model using generator"
   ]
  },
  {
   "cell_type": "code",
   "execution_count": 38,
   "metadata": {},
   "outputs": [
    {
     "name": "stdout",
     "output_type": "stream",
     "text": [
      "Epoch 1/30\n",
      "100/100 [==============================] - 222s - loss: 2.6320 - acc: 0.5210 - val_loss: 0.6747 - val_acc: 0.5760\n",
      "Epoch 2/30\n",
      "100/100 [==============================] - 240s - loss: 0.6694 - acc: 0.6215 - val_loss: 0.5835 - val_acc: 0.7000\n",
      "Epoch 3/30\n",
      "100/100 [==============================] - 193s - loss: 0.5963 - acc: 0.6940 - val_loss: 0.6001 - val_acc: 0.6730\n",
      "Epoch 4/30\n",
      "100/100 [==============================] - 198s - loss: 0.5290 - acc: 0.7480 - val_loss: 0.5643 - val_acc: 0.7070\n",
      "Epoch 5/30\n",
      "100/100 [==============================] - 197s - loss: 0.4517 - acc: 0.7915 - val_loss: 0.5970 - val_acc: 0.6880\n",
      "Epoch 6/30\n",
      "100/100 [==============================] - 197s - loss: 0.3573 - acc: 0.8390 - val_loss: 0.8258 - val_acc: 0.6800\n",
      "Epoch 7/30\n",
      "100/100 [==============================] - 199s - loss: 0.2796 - acc: 0.8820 - val_loss: 1.2233 - val_acc: 0.6460\n",
      "Epoch 8/30\n",
      "100/100 [==============================] - 196s - loss: 0.1937 - acc: 0.9230 - val_loss: 0.9247 - val_acc: 0.7150\n",
      "Epoch 9/30\n",
      "100/100 [==============================] - 213s - loss: 0.1315 - acc: 0.9465 - val_loss: 1.1606 - val_acc: 0.7130\n",
      "Epoch 10/30\n",
      "100/100 [==============================] - 203s - loss: 0.1302 - acc: 0.9600 - val_loss: 1.3664 - val_acc: 0.6870\n",
      "Epoch 11/30\n",
      "100/100 [==============================] - 201s - loss: 0.0640 - acc: 0.9790 - val_loss: 1.7807 - val_acc: 0.6880\n",
      "Epoch 12/30\n",
      "100/100 [==============================] - 195s - loss: 0.0823 - acc: 0.9775 - val_loss: 1.7071 - val_acc: 0.7200\n",
      "Epoch 13/30\n",
      "100/100 [==============================] - 195s - loss: 0.0703 - acc: 0.9850 - val_loss: 1.3231 - val_acc: 0.7540\n",
      "Epoch 14/30\n",
      "100/100 [==============================] - 199s - loss: 0.0432 - acc: 0.9895 - val_loss: 1.9332 - val_acc: 0.6890\n",
      "Epoch 15/30\n",
      "100/100 [==============================] - 199s - loss: 0.0461 - acc: 0.9925 - val_loss: 2.0416 - val_acc: 0.7260\n",
      "Epoch 16/30\n",
      "100/100 [==============================] - 194s - loss: 0.0501 - acc: 0.9855 - val_loss: 2.0633 - val_acc: 0.7020\n",
      "Epoch 17/30\n",
      "100/100 [==============================] - 194s - loss: 0.0465 - acc: 0.9890 - val_loss: 1.5923 - val_acc: 0.7200\n",
      "Epoch 18/30\n",
      "100/100 [==============================] - 194s - loss: 0.0591 - acc: 0.9875 - val_loss: 2.6839 - val_acc: 0.6730\n",
      "Epoch 19/30\n",
      "100/100 [==============================] - 193s - loss: 0.0328 - acc: 0.9925 - val_loss: 2.3477 - val_acc: 0.7020\n",
      "Epoch 20/30\n",
      "100/100 [==============================] - 189s - loss: 0.0783 - acc: 0.9875 - val_loss: 2.5742 - val_acc: 0.6990\n",
      "Epoch 21/30\n",
      "100/100 [==============================] - 190s - loss: 0.0387 - acc: 0.9960 - val_loss: 2.8433 - val_acc: 0.6920\n",
      "Epoch 22/30\n",
      "100/100 [==============================] - 191s - loss: 0.0535 - acc: 0.9905 - val_loss: 2.6193 - val_acc: 0.6800\n",
      "Epoch 23/30\n",
      "100/100 [==============================] - 191s - loss: 0.0212 - acc: 0.9955 - val_loss: 2.7050 - val_acc: 0.7090\n",
      "Epoch 24/30\n",
      "100/100 [==============================] - 192s - loss: 0.0700 - acc: 0.9895 - val_loss: 2.1289 - val_acc: 0.6640\n",
      "Epoch 25/30\n",
      "100/100 [==============================] - 191s - loss: 0.0696 - acc: 0.9895 - val_loss: 2.4367 - val_acc: 0.6970\n",
      "Epoch 26/30\n",
      "100/100 [==============================] - 193s - loss: 0.0320 - acc: 0.9950 - val_loss: 2.7911 - val_acc: 0.7220\n",
      "Epoch 27/30\n",
      "100/100 [==============================] - 191s - loss: 0.0797 - acc: 0.9915 - val_loss: 2.6020 - val_acc: 0.7220\n",
      "Epoch 28/30\n",
      "100/100 [==============================] - 189s - loss: 0.0311 - acc: 0.9950 - val_loss: 2.6117 - val_acc: 0.7140\n",
      "Epoch 29/30\n",
      "100/100 [==============================] - 189s - loss: 0.0432 - acc: 0.9925 - val_loss: 2.5104 - val_acc: 0.7080\n",
      "Epoch 30/30\n",
      "100/100 [==============================] - 192s - loss: 1.8134e-04 - acc: 1.0000 - val_loss: 3.0173 - val_acc: 0.7320\n"
     ]
    }
   ],
   "source": [
    "history=model.fit_generator(train_generator,steps_per_epoch=100,epochs=30,validation_data=validation_generator,validation_steps=50)"
   ]
  },
  {
   "cell_type": "code",
   "execution_count": 39,
   "metadata": {},
   "outputs": [],
   "source": [
    "model.save(\"cats_and_dogs_small.h5\")"
   ]
  },
  {
   "cell_type": "markdown",
   "metadata": {},
   "source": [
    "## Loss and accuracy during training"
   ]
  },
  {
   "cell_type": "code",
   "execution_count": 33,
   "metadata": {
    "collapsed": true
   },
   "outputs": [],
   "source": [
    "import matplotlib.pyplot as plt"
   ]
  },
  {
   "cell_type": "code",
   "execution_count": 42,
   "metadata": {},
   "outputs": [],
   "source": [
    "acc= history.history['acc']\n",
    "val_acc= history.history['val_acc']\n",
    "loss= history.history['loss']\n",
    "val_loss= history.history['val_loss']"
   ]
  },
  {
   "cell_type": "code",
   "execution_count": 43,
   "metadata": {
    "collapsed": true
   },
   "outputs": [],
   "source": [
    "epochs= range(1,len(acc)+1)"
   ]
  },
  {
   "cell_type": "code",
   "execution_count": 47,
   "metadata": {},
   "outputs": [
    {
     "data": {
      "text/plain": [
       "<matplotlib.text.Text at 0x12c6115f8>"
      ]
     },
     "execution_count": 47,
     "metadata": {},
     "output_type": "execute_result"
    },
    {
     "data": {
      "image/png": "[encoded data removed]",
      "text/plain": [
       "<matplotlib.figure.Figure at 0x12b538828>"
      ]
     },
     "metadata": {},
     "output_type": "display_data"
    }
   ],
   "source": [
    "plt.plot(epochs,acc,'bo')\n",
    "plt.plot(epochs,val_acc,'b')\n",
    "plt.title(\"Training and validation accuracy\")"
   ]
  },
  {
   "cell_type": "code",
   "execution_count": 48,
   "metadata": {},
   "outputs": [
    {
     "data": {
      "text/plain": [
       "<matplotlib.text.Text at 0x12c76e0f0>"
      ]
     },
     "execution_count": 48,
     "metadata": {},
     "output_type": "execute_result"
    },
    {
     "data": {
      "image/png": "[encoded data removed]",
      "text/plain": [
       "<matplotlib.figure.Figure at 0x12c6c7f28>"
      ]
     },
     "metadata": {},
     "output_type": "display_data"
    }
   ],
   "source": [
    "plt.plot(epochs,loss,'bo')\n",
    "plt.plot(epochs,val_loss,'b')\n",
    "plt.title(\"Training and validation loss\")"
   ]
  },
  {
   "cell_type": "markdown",
   "metadata": {},
   "source": [
    "Overfitting – Validation error is high, training error low\n",
    "\n",
    "Good fit – Validation error low, slightly higher than the training error"
   ]
  },
  {
   "cell_type": "markdown",
   "metadata": {},
   "source": [
    "## Reduce overfitting using following methods: \n",
    "1. More Data\n",
    "2. L2 regularization\n",
    "3. Drop out\n",
    "4. Data augmentation"
   ]
  },
  {
   "cell_type": "markdown",
   "metadata": {},
   "source": [
    "### Setting up Data augementation technique using Image Data Generator"
   ]
  },
  {
   "cell_type": "code",
   "execution_count": 49,
   "metadata": {
    "collapsed": true
   },
   "outputs": [],
   "source": [
    "datagen = ImageDataGenerator(\n",
    "      rotation_range=40,\n",
    "      width_shift_range=0.2,\n",
    "      height_shift_range=0.2,\n",
    "      shear_range=0.2,\n",
    "      zoom_range=0.2,\n",
    "      horizontal_flip=True,\n",
    "      fill_mode='nearest')"
   ]
  },
  {
   "cell_type": "markdown",
   "metadata": {},
   "source": [
    "Using Dropout in conjection with Data augmentation to completely remove overfitting"
   ]
  },
  {
   "cell_type": "code",
   "execution_count": 50,
   "metadata": {
    "collapsed": true
   },
   "outputs": [],
   "source": [
    "model= models.Sequential()\n",
    "model.add(layers.Conv2D(32,(3,3),activation='relu',input_shape=(150,150,3)))\n",
    "model.add(layers.MaxPool2D((2,2),strides=None, padding='valid'))\n",
    "model.add(layers.Conv2D(64,(3,3),activation='relu'))\n",
    "model.add(layers.MaxPool2D((2,2),strides=None, padding='valid'))\n",
    "model.add(layers.Conv2D(128,(3,3),activation='relu'))\n",
    "model.add(layers.MaxPool2D((2,2),strides=None, padding='valid'))\n",
    "model.add(layers.Flatten())\n",
    "model.add(layers.Dropout(0.5))\n",
    "model.add(layers.Dense(512,activation='relu'))\n",
    "model.add(layers.Dense(1,activation='sigmoid'))"
   ]
  },
  {
   "cell_type": "code",
   "execution_count": 51,
   "metadata": {
    "collapsed": true
   },
   "outputs": [],
   "source": [
    "model.compile(optimizer='rmsprop',loss='binary_crossentropy',metrics=['acc'])"
   ]
  },
  {
   "cell_type": "code",
   "execution_count": 52,
   "metadata": {
    "collapsed": true
   },
   "outputs": [],
   "source": [
    "# Train the new model"
   ]
  },
  {
   "cell_type": "code",
   "execution_count": 53,
   "metadata": {},
   "outputs": [
    {
     "name": "stdout",
     "output_type": "stream",
     "text": [
      "Found 2000 images belonging to 2 classes.\n",
      "Found 1000 images belonging to 2 classes.\n"
     ]
    }
   ],
   "source": [
    "from keras.preprocessing.image import ImageDataGenerator\n",
    "\n",
    "# All images will be rescaled by 1./255\n",
    "train_datagen = ImageDataGenerator(rescale=1./255,rotation_range=40,\n",
    "      width_shift_range=0.2,\n",
    "      height_shift_range=0.2,\n",
    "      shear_range=0.2,\n",
    "      zoom_range=0.2,\n",
    "      horizontal_flip=True,\n",
    "      fill_mode='nearest')\n",
    "\n",
    "test_datagen = ImageDataGenerator(rescale=1./255)\n",
    "\n",
    "train_generator = train_datagen.flow_from_directory(\n",
    "        # This is the target directory\n",
    "        train_dir,\n",
    "        # All images will be resized to 150x150\n",
    "        target_size=(150, 150),\n",
    "        batch_size=20,\n",
    "        # Since we use binary_crossentropy loss, we need binary labels\n",
    "        class_mode='binary')\n",
    "\n",
    "validation_generator = test_datagen.flow_from_directory(\n",
    "        validation_dir,\n",
    "        target_size=(150, 150),\n",
    "        batch_size=20,\n",
    "        class_mode='binary')"
   ]
  },
  {
   "cell_type": "code",
   "execution_count": 54,
   "metadata": {},
   "outputs": [
    {
     "name": "stdout",
     "output_type": "stream",
     "text": [
      "Epoch 1/30\n",
      "100/100 [==============================] - 214s - loss: 0.7445 - acc: 0.5245 - val_loss: 0.6456 - val_acc: 0.6200\n",
      "Epoch 2/30\n",
      "100/100 [==============================] - 201s - loss: 0.6838 - acc: 0.5875 - val_loss: 0.6316 - val_acc: 0.6100\n",
      "Epoch 3/30\n",
      "100/100 [==============================] - 205s - loss: 0.6567 - acc: 0.6205 - val_loss: 0.6062 - val_acc: 0.6580\n",
      "Epoch 4/30\n",
      "100/100 [==============================] - 216s - loss: 0.6302 - acc: 0.6530 - val_loss: 0.5835 - val_acc: 0.6850\n",
      "Epoch 5/30\n",
      "100/100 [==============================] - 258s - loss: 0.6385 - acc: 0.6535 - val_loss: 0.5885 - val_acc: 0.6820\n",
      "Epoch 6/30\n",
      "100/100 [==============================] - 238s - loss: 0.6169 - acc: 0.6585 - val_loss: 0.6014 - val_acc: 0.6770\n",
      "Epoch 7/30\n",
      "100/100 [==============================] - 252s - loss: 0.6038 - acc: 0.6695 - val_loss: 0.5843 - val_acc: 0.7050\n",
      "Epoch 8/30\n",
      "100/100 [==============================] - 271s - loss: 0.6116 - acc: 0.6825 - val_loss: 0.5657 - val_acc: 0.7050\n",
      "Epoch 9/30\n",
      "100/100 [==============================] - 258s - loss: 0.5975 - acc: 0.6810 - val_loss: 0.5649 - val_acc: 0.7110\n",
      "Epoch 10/30\n",
      "100/100 [==============================] - 234s - loss: 0.5850 - acc: 0.6915 - val_loss: 0.5646 - val_acc: 0.6970\n",
      "Epoch 11/30\n",
      "100/100 [==============================] - 233s - loss: 0.5924 - acc: 0.6840 - val_loss: 0.5519 - val_acc: 0.7240\n",
      "Epoch 12/30\n",
      "100/100 [==============================] - 274s - loss: 0.5827 - acc: 0.6940 - val_loss: 0.5328 - val_acc: 0.7280\n",
      "Epoch 13/30\n",
      "100/100 [==============================] - 273s - loss: 0.5811 - acc: 0.6995 - val_loss: 0.5571 - val_acc: 0.7030\n",
      "Epoch 14/30\n",
      "100/100 [==============================] - 255s - loss: 0.5859 - acc: 0.7120 - val_loss: 0.5405 - val_acc: 0.7450\n",
      "Epoch 15/30\n",
      "100/100 [==============================] - 321s - loss: 0.5780 - acc: 0.7000 - val_loss: 0.5321 - val_acc: 0.7220\n",
      "Epoch 16/30\n",
      "100/100 [==============================] - 301s - loss: 0.5636 - acc: 0.7185 - val_loss: 0.5576 - val_acc: 0.6940\n",
      "Epoch 17/30\n",
      "100/100 [==============================] - 307s - loss: 0.5519 - acc: 0.7175 - val_loss: 0.6023 - val_acc: 0.7460\n",
      "Epoch 18/30\n",
      "100/100 [==============================] - 274s - loss: 0.5657 - acc: 0.7105 - val_loss: 0.5754 - val_acc: 0.6870\n",
      "Epoch 19/30\n",
      "100/100 [==============================] - 263s - loss: 0.5462 - acc: 0.7205 - val_loss: 0.5005 - val_acc: 0.7600\n",
      "Epoch 20/30\n",
      "100/100 [==============================] - 226s - loss: 0.5401 - acc: 0.7305 - val_loss: 0.5294 - val_acc: 0.7280\n",
      "Epoch 21/30\n",
      "100/100 [==============================] - 229s - loss: 0.5546 - acc: 0.7225 - val_loss: 0.4904 - val_acc: 0.7630\n",
      "Epoch 22/30\n",
      "100/100 [==============================] - 217s - loss: 0.5528 - acc: 0.7130 - val_loss: 0.5058 - val_acc: 0.7510\n",
      "Epoch 23/30\n",
      "100/100 [==============================] - 216s - loss: 0.5408 - acc: 0.7200 - val_loss: 0.5365 - val_acc: 0.7120\n",
      "Epoch 24/30\n",
      "100/100 [==============================] - 219s - loss: 0.5388 - acc: 0.7320 - val_loss: 0.4933 - val_acc: 0.7390\n",
      "Epoch 25/30\n",
      "100/100 [==============================] - 222s - loss: 0.5330 - acc: 0.7405 - val_loss: 0.4520 - val_acc: 0.7870\n",
      "Epoch 26/30\n",
      "100/100 [==============================] - 220s - loss: 0.5349 - acc: 0.7340 - val_loss: 0.4587 - val_acc: 0.7940\n",
      "Epoch 27/30\n",
      "100/100 [==============================] - 221s - loss: 0.5332 - acc: 0.7380 - val_loss: 0.5162 - val_acc: 0.7430\n",
      "Epoch 28/30\n",
      "100/100 [==============================] - 217s - loss: 0.5394 - acc: 0.7390 - val_loss: 0.4435 - val_acc: 0.7890\n",
      "Epoch 29/30\n",
      "100/100 [==============================] - 213s - loss: 0.5275 - acc: 0.7350 - val_loss: 0.4632 - val_acc: 0.7930\n",
      "Epoch 30/30\n",
      "100/100 [==============================] - 211s - loss: 0.5186 - acc: 0.7520 - val_loss: 0.5073 - val_acc: 0.7460\n"
     ]
    }
   ],
   "source": [
    "history=model.fit_generator(train_generator,steps_per_epoch=100,epochs=30,validation_data=validation_generator,validation_steps=50)"
   ]
  },
  {
   "cell_type": "code",
   "execution_count": 55,
   "metadata": {
    "collapsed": true
   },
   "outputs": [],
   "source": [
    "acc= history.history['acc']\n",
    "val_acc= history.history['val_acc']\n",
    "loss= history.history['loss']\n",
    "val_loss= history.history['val_loss']"
   ]
  },
  {
   "cell_type": "code",
   "execution_count": 56,
   "metadata": {
    "collapsed": true
   },
   "outputs": [],
   "source": [
    "epochs= range(1,len(acc)+1)"
   ]
  },
  {
   "cell_type": "code",
   "execution_count": 57,
   "metadata": {},
   "outputs": [
    {
     "data": {
      "text/plain": [
       "<matplotlib.text.Text at 0x12c1fc780>"
      ]
     },
     "execution_count": 57,
     "metadata": {},
     "output_type": "execute_result"
    },
    {
     "data": {
      "image/png": "[encoded data removed]",
      "text/plain": [
       "<matplotlib.figure.Figure at 0x12b54db00>"
      ]
     },
     "metadata": {},
     "output_type": "display_data"
    }
   ],
   "source": [
    "plt.plot(epochs,acc,'bo')\n",
    "plt.plot(epochs,val_acc,'b')\n",
    "plt.title(\"Training and validation accuracy\")"
   ]
  },
  {
   "cell_type": "code",
   "execution_count": 58,
   "metadata": {},
   "outputs": [
    {
     "data": {
      "text/plain": [
       "<matplotlib.text.Text at 0x12c3cc748>"
      ]
     },
     "execution_count": 58,
     "metadata": {},
     "output_type": "execute_result"
    },
    {
     "data": {
      "image/png": "[encoded data removed]",
      "text/plain": [
       "<matplotlib.figure.Figure at 0x12c383198>"
      ]
     },
     "metadata": {},
     "output_type": "display_data"
    }
   ],
   "source": [
    "plt.plot(epochs,loss,'bo')\n",
    "plt.plot(epochs,val_loss,'b')\n",
    "plt.title(\"Training and validation loss\")"
   ]
  },
  {
   "cell_type": "markdown",
   "metadata": {},
   "source": [
    "Thanks to data augmentation and dropout, we are no longer overfitting: the training curves are rather closely tracking the validation curves. We are now able to reach an accuracy of 82%, a 15% relative improvement over the non-regularized model."
   ]
  },
  {
   "cell_type": "code",
   "execution_count": null,
   "metadata": {
    "collapsed": true
   },
   "outputs": [],
   "source": []
  }
 ],
 "metadata": {
  "kernelspec": {
   "display_name": "Python 3",
   "language": "python",
   "name": "python3"
  },
  "language_info": {
   "codemirror_mode": {
    "name": "ipython",
    "version": 3
   },
   "file_extension": ".py",
   "mimetype": "text/x-python",
   "name": "python",
   "nbconvert_exporter": "python",
   "pygments_lexer": "ipython3",
   "version": "3.6.2"
  }
 },
 "nbformat": 4,
 "nbformat_minor": 2
}
