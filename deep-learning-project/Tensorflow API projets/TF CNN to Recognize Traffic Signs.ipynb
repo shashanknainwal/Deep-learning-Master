{
 "cells": [
  {
   "cell_type": "markdown",
   "metadata": {},
   "source": [
    "# Traffic Sign Recognition"
   ]
  },
  {
   "cell_type": "markdown",
   "metadata": {},
   "source": [
    "In this tutorial, we will get our hands dirty with deep learning by solving a real world problem. The problem we are gonna tackle is The German Traffic Sign Recognition Benchmark(GTSRB). The problem is to to recognize the traffic sign from the images. Solving this problem is essential for self-driving cars to operate on roads.\n",
    "Training set includes about 39000 images while test set has around 12000 images. Images are not guaranteed to be of fixed dimensions and the sign is not necessarily centered in each image"
   ]
  },
  {
   "cell_type": "markdown",
   "metadata": {},
   "source": [
    "Image< 2D conv(#filters, kernel size) < Max Pool(kernel size) < 2D conv < Max Pool< Flatten< Fully connected(#units) < Softmax"
   ]
  },
  {
   "cell_type": "markdown",
   "metadata": {},
   "source": [
    "## Image preprocessing"
   ]
  },
  {
   "cell_type": "markdown",
   "metadata": {},
   "source": [
    "**Load images and reshape them to 32*32.\n",
    "**One hot encode labels 43D array\n",
    "**RGB to grayscale"
   ]
  },
  {
   "cell_type": "code",
   "execution_count": 1,
   "metadata": {
    "collapsed": true
   },
   "outputs": [],
   "source": [
    "N_CLASSES=43\n",
    "RESIZED_IMAGE=(32,32)"
   ]
  },
  {
   "cell_type": "code",
   "execution_count": 2,
   "metadata": {
    "collapsed": true
   },
   "outputs": [],
   "source": [
    "# Function to read images, resize, converts, onehot encode the label\n",
    "\n",
    "# All the images are of variable size, lets convert them to same shape"
   ]
  },
  {
   "cell_type": "code",
   "execution_count": 3,
   "metadata": {
    "collapsed": true
   },
   "outputs": [],
   "source": [
    "import matplotlib.pyplot as plt\n",
    "import glob\n",
    "from skimage.color import rgb2lab\n",
    "from skimage.transform import resize\n",
    "from collections import namedtuple\n",
    "import numpy as np\n",
    "np.random.seed(101)\n",
    "%matplotlib inline"
   ]
  },
  {
   "cell_type": "markdown",
   "metadata": {},
   "source": [
    "# READING FILE FOR TF"
   ]
  },
  {
   "cell_type": "code",
   "execution_count": 4,
   "metadata": {},
   "outputs": [
    {
     "name": "stdout",
     "output_type": "stream",
     "text": [
      "(39209, 32, 32, 1)\n",
      "(39209, 43)\n"
     ]
    }
   ],
   "source": [
    "Dataset = namedtuple('Dataset', ['X', 'y'])\n",
    "\n",
    "def to_tf_format(imgs):\n",
    "    return np.stack([img[:, :, np.newaxis] for img in imgs], axis=0).astype(np.float32)\n",
    "\n",
    "def read_dataset_ppm(rootpath, n_labels, resize_to):\n",
    "    images = []\n",
    "    labels = []\n",
    "    \n",
    "    for c in range(n_labels):\n",
    "        full_path = rootpath + '/' + format(c, '05d') + '/'\n",
    "        for img_name in glob.glob(full_path + \"*.ppm\"):\n",
    "            img = plt.imread(img_name).astype(np.float32)\n",
    "            img = rgb2lab(img / 255.0)[:,:,0]\n",
    "            if resize_to:\n",
    "                img = resize(img, resize_to, mode='reflect')\n",
    "            label = np.zeros((n_labels, ), dtype=np.float32)\n",
    "            label[c] = 1.0\n",
    "            images.append(img.astype(np.float32))\n",
    "            labels.append(label)\n",
    "    return Dataset(X = to_tf_format(images).astype(np.float32),\n",
    "                 y = np.matrix(labels).astype(np.float32))\n",
    "\n",
    "dataset = read_dataset_ppm('GTSRB/Final_Training/Images', N_CLASSES, RESIZED_IMAGE)\n",
    "print(dataset.X.shape)\n",
    "print(dataset.y.shape)\n",
    "\n"
   ]
  },
  {
   "cell_type": "code",
   "execution_count": 16,
   "metadata": {},
   "outputs": [
    {
     "data": {
      "text/plain": [
       "Dataset(X=array([[[[ 100.        ],\n",
       "         [ 100.        ],\n",
       "         [ 100.        ],\n",
       "         ..., \n",
       "         [ 100.        ],\n",
       "         [ 100.        ],\n",
       "         [ 100.        ]],\n",
       "\n",
       "        [[ 100.        ],\n",
       "         [ 100.        ],\n",
       "         [ 100.        ],\n",
       "         ..., \n",
       "         [ 100.        ],\n",
       "         [ 100.        ],\n",
       "         [ 100.        ]],\n",
       "\n",
       "        [[ 100.        ],\n",
       "         [ 100.        ],\n",
       "         [ 100.        ],\n",
       "         ..., \n",
       "         [ 100.        ],\n",
       "         [ 100.        ],\n",
       "         [ 100.        ]],\n",
       "\n",
       "        ..., \n",
       "        [[  97.62533569],\n",
       "         [  99.12327576],\n",
       "         [  99.53224945],\n",
       "         ..., \n",
       "         [  99.70491791],\n",
       "         [  99.54701996],\n",
       "         [  99.53102112]],\n",
       "\n",
       "        [[  99.06925201],\n",
       "         [  99.32100677],\n",
       "         [  99.63559723],\n",
       "         ..., \n",
       "         [  99.69046783],\n",
       "         [  99.67693329],\n",
       "         [  99.57378387]],\n",
       "\n",
       "        [[  99.2782135 ],\n",
       "         [  99.48441315],\n",
       "         [  99.66602325],\n",
       "         ..., \n",
       "         [  99.69928741],\n",
       "         [  99.64729309],\n",
       "         [  99.57592773]]],\n",
       "\n",
       "\n",
       "       [[[  41.87865829],\n",
       "         [  43.63168335],\n",
       "         [  46.18720627],\n",
       "         ..., \n",
       "         [  88.49623871],\n",
       "         [  85.4466629 ],\n",
       "         [  84.14309692]],\n",
       "\n",
       "        [[  46.57765579],\n",
       "         [  45.84528732],\n",
       "         [  45.79406738],\n",
       "         ..., \n",
       "         [  71.76337433],\n",
       "         [  72.57853699],\n",
       "         [  71.38365936]],\n",
       "\n",
       "        [[  49.62366104],\n",
       "         [  44.21035004],\n",
       "         [  46.84339523],\n",
       "         ..., \n",
       "         [  68.93706512],\n",
       "         [  70.30962372],\n",
       "         [  70.32312012]],\n",
       "\n",
       "        ..., \n",
       "        [[  35.57062149],\n",
       "         [  38.89176941],\n",
       "         [  33.25076675],\n",
       "         ..., \n",
       "         [  56.7119751 ],\n",
       "         [  65.46931458],\n",
       "         [  55.90616989]],\n",
       "\n",
       "        [[  25.18483543],\n",
       "         [  28.23682594],\n",
       "         [  26.33120537],\n",
       "         ..., \n",
       "         [  54.86604309],\n",
       "         [  64.83470917],\n",
       "         [  53.63542175]],\n",
       "\n",
       "        [[  20.81768417],\n",
       "         [  20.06534958],\n",
       "         [  20.10256386],\n",
       "         ..., \n",
       "         [  54.3230896 ],\n",
       "         [  64.04269409],\n",
       "         [  51.59865189]]],\n",
       "\n",
       "\n",
       "       [[[ 100.        ],\n",
       "         [  99.22454071],\n",
       "         [  99.95623779],\n",
       "         ..., \n",
       "         [ 100.        ],\n",
       "         [ 100.        ],\n",
       "         [ 100.        ]],\n",
       "\n",
       "        [[ 100.        ],\n",
       "         [ 100.        ],\n",
       "         [ 100.        ],\n",
       "         ..., \n",
       "         [ 100.        ],\n",
       "         [ 100.        ],\n",
       "         [ 100.        ]],\n",
       "\n",
       "        [[  71.88465118],\n",
       "         [  99.50105286],\n",
       "         [  99.8795929 ],\n",
       "         ..., \n",
       "         [ 100.        ],\n",
       "         [ 100.        ],\n",
       "         [ 100.        ]],\n",
       "\n",
       "        ..., \n",
       "        [[  93.25842285],\n",
       "         [  93.63098907],\n",
       "         [  94.17915344],\n",
       "         ..., \n",
       "         [  25.41762161],\n",
       "         [  23.04140663],\n",
       "         [  21.64255524]],\n",
       "\n",
       "        [[  92.53347015],\n",
       "         [  93.1699295 ],\n",
       "         [  94.2806778 ],\n",
       "         ..., \n",
       "         [  17.03859711],\n",
       "         [  17.23425484],\n",
       "         [  17.5837059 ]],\n",
       "\n",
       "        [[  91.90200806],\n",
       "         [  92.85662842],\n",
       "         [  92.07478333],\n",
       "         ..., \n",
       "         [  24.60642815],\n",
       "         [  18.88472748],\n",
       "         [  21.8268795 ]]],\n",
       "\n",
       "\n",
       "       ..., \n",
       "       [[[   2.67940474],\n",
       "         [   2.64516759],\n",
       "         [   2.67546082],\n",
       "         ..., \n",
       "         [   3.04905081],\n",
       "         [   3.60469389],\n",
       "         [   3.38369966]],\n",
       "\n",
       "        [[   2.82792473],\n",
       "         [   2.97020841],\n",
       "         [   2.87167978],\n",
       "         ..., \n",
       "         [   2.81017256],\n",
       "         [   3.09654808],\n",
       "         [   3.08914042]],\n",
       "\n",
       "        [[   2.30736327],\n",
       "         [   2.33837962],\n",
       "         [   2.5472393 ],\n",
       "         ..., \n",
       "         [   2.58678699],\n",
       "         [   2.82887077],\n",
       "         [   3.02818346]],\n",
       "\n",
       "        ..., \n",
       "        [[   2.24147201],\n",
       "         [   2.50727391],\n",
       "         [   2.56580472],\n",
       "         ..., \n",
       "         [   2.62904143],\n",
       "         [   3.0948503 ],\n",
       "         [   3.13005495]],\n",
       "\n",
       "        [[   2.45968223],\n",
       "         [   2.31100702],\n",
       "         [   2.49218082],\n",
       "         ..., \n",
       "         [   2.52087808],\n",
       "         [   2.83208323],\n",
       "         [   3.08097577]],\n",
       "\n",
       "        [[   2.45927405],\n",
       "         [   2.39639258],\n",
       "         [   2.47330499],\n",
       "         ..., \n",
       "         [   2.68479633],\n",
       "         [   2.8375926 ],\n",
       "         [   3.05191207]]],\n",
       "\n",
       "\n",
       "       [[[  30.00774574],\n",
       "         [  18.08199501],\n",
       "         [  18.39621353],\n",
       "         ..., \n",
       "         [  62.73374557],\n",
       "         [  61.25543213],\n",
       "         [  58.40842438]],\n",
       "\n",
       "        [[  32.95347595],\n",
       "         [  25.17848206],\n",
       "         [  22.34015846],\n",
       "         ..., \n",
       "         [  45.55174637],\n",
       "         [  52.59415436],\n",
       "         [  54.79876328]],\n",
       "\n",
       "        [[  40.40109253],\n",
       "         [  31.99410629],\n",
       "         [  24.73808098],\n",
       "         ..., \n",
       "         [  40.713871  ],\n",
       "         [  40.18614197],\n",
       "         [  42.59684753]],\n",
       "\n",
       "        ..., \n",
       "        [[  40.33224869],\n",
       "         [  41.48649597],\n",
       "         [  41.19826508],\n",
       "         ..., \n",
       "         [  21.4240551 ],\n",
       "         [  21.20921326],\n",
       "         [  20.93486023]],\n",
       "\n",
       "        [[  41.17913055],\n",
       "         [  37.42554092],\n",
       "         [  34.84563828],\n",
       "         ..., \n",
       "         [  22.75195503],\n",
       "         [  22.18123245],\n",
       "         [  20.33481598]],\n",
       "\n",
       "        [[  38.87520599],\n",
       "         [  33.12594223],\n",
       "         [  32.9093399 ],\n",
       "         ..., \n",
       "         [  23.82082176],\n",
       "         [  23.58528328],\n",
       "         [  19.99966049]]],\n",
       "\n",
       "\n",
       "       [[[  12.43094349],\n",
       "         [  12.00849915],\n",
       "         [  10.76384258],\n",
       "         ..., \n",
       "         [  19.90499496],\n",
       "         [  18.83474922],\n",
       "         [  18.28215027]],\n",
       "\n",
       "        [[  11.67848587],\n",
       "         [  10.85895157],\n",
       "         [  10.67042255],\n",
       "         ..., \n",
       "         [  22.13143539],\n",
       "         [  18.53502655],\n",
       "         [  18.62977028]],\n",
       "\n",
       "        [[  11.56388474],\n",
       "         [  11.55510044],\n",
       "         [  11.88742447],\n",
       "         ..., \n",
       "         [  22.45646477],\n",
       "         [  16.60489464],\n",
       "         [  16.41064262]],\n",
       "\n",
       "        ..., \n",
       "        [[  18.18643761],\n",
       "         [  18.19683266],\n",
       "         [  15.47930813],\n",
       "         ..., \n",
       "         [  16.16493988],\n",
       "         [  15.14393234],\n",
       "         [  19.25660515]],\n",
       "\n",
       "        [[  20.12837219],\n",
       "         [  17.65220642],\n",
       "         [  15.18726635],\n",
       "         ..., \n",
       "         [  17.46849823],\n",
       "         [  15.75783825],\n",
       "         [  17.28809166]],\n",
       "\n",
       "        [[  16.90241051],\n",
       "         [  15.15842915],\n",
       "         [  13.14143944],\n",
       "         ..., \n",
       "         [  19.95626068],\n",
       "         [  17.46273804],\n",
       "         [  16.94698715]]]], dtype=float32), y=matrix([[ 1.,  0.,  0., ...,  0.,  0.,  0.],\n",
       "        [ 1.,  0.,  0., ...,  0.,  0.,  0.],\n",
       "        [ 1.,  0.,  0., ...,  0.,  0.,  0.],\n",
       "        ..., \n",
       "        [ 0.,  0.,  0., ...,  0.,  0.,  1.],\n",
       "        [ 0.,  0.,  0., ...,  0.,  0.,  1.],\n",
       "        [ 0.,  0.,  0., ...,  0.,  0.,  1.]], dtype=float32))"
      ]
     },
     "execution_count": 16,
     "metadata": {},
     "output_type": "execute_result"
    }
   ],
   "source": [
    "dataset"
   ]
  },
  {
   "cell_type": "markdown",
   "metadata": {},
   "source": [
    "# READING FILE IN KERAS"
   ]
  },
  {
   "cell_type": "markdown",
   "metadata": {},
   "source": [
    "As you can see from the representative images above, images vary a lot in illumination. They also vary in size. So, let’s write a function to do histogram equalization in HSV color space and resize the images to a standard size:"
   ]
  },
  {
   "cell_type": "code",
   "execution_count": null,
   "metadata": {
    "collapsed": true
   },
   "outputs": [],
   "source": [
    "NUM_CLASSES = 43\n",
    "IMG_SIZE = 48\n"
   ]
  },
  {
   "cell_type": "code",
   "execution_count": null,
   "metadata": {
    "collapsed": true
   },
   "outputs": [],
   "source": [
    "def preprocess_img(img):\n",
    "    # Histogram normalization in v channel\n",
    "    hsv = color.rgb2hsv(img)\n",
    "    hsv[:, :, 2] = exposure.equalize_hist(hsv[:, :, 2])\n",
    "    img = color.hsv2rgb(hsv)\n",
    "\n",
    "    # central square crop\n",
    "    min_side = min(img.shape[:-1])\n",
    "    centre = img.shape[0] // 2, img.shape[1] // 2\n",
    "    img = img[centre[0] - min_side // 2:centre[0] + min_side // 2,\n",
    "              centre[1] - min_side // 2:centre[1] + min_side // 2,\n",
    "              :]\n",
    "\n",
    "    # rescale to standard size\n",
    "    img = transform.resize(img, (IMG_SIZE, IMG_SIZE))\n",
    "\n",
    "    # roll color axis to axis 0\n",
    "    img = np.rollaxis(img, -1)\n",
    "\n",
    "    return img"
   ]
  },
  {
   "cell_type": "code",
   "execution_count": 7,
   "metadata": {},
   "outputs": [
    {
     "name": "stderr",
     "output_type": "stream",
     "text": [
      "/anaconda/lib/python3.6/site-packages/skimage/transform/_warps.py:84: UserWarning: The default mode, 'constant', will be changed to 'reflect' in skimage 0.15.\n",
      "  warn(\"The default mode, 'constant', will be changed to 'reflect' in \"\n"
     ]
    }
   ],
   "source": [
    "from skimage import io\n",
    "import os\n",
    "import glob\n",
    "import numpy as np\n",
    "from skimage import color, exposure, transform\n",
    "\n",
    "\n",
    "def get_class(img_path):\n",
    "    return int(img_path.split('/')[-2])\n",
    "\n",
    "root_dir = 'GTSRB/Final_Training/Images/'\n",
    "imgs = []\n",
    "labels = []\n",
    "\n",
    "all_img_paths = glob.glob(os.path.join(root_dir, '*/*.ppm'))\n",
    "np.random.shuffle(all_img_paths)\n",
    "for img_path in all_img_paths:\n",
    "    img = preprocess_img(io.imread(img_path))\n",
    "    label = get_class(img_path)\n",
    "    imgs.append(img)\n",
    "    labels.append(label)\n",
    "\n",
    "X = np.array(imgs, dtype='float32')\n",
    "# Make one hot targets\n",
    "Y = np.eye(NUM_CLASSES, dtype='uint8')[labels]"
   ]
  },
  {
   "cell_type": "code",
   "execution_count": 8,
   "metadata": {},
   "outputs": [
    {
     "data": {
      "text/plain": [
       "(39209, 3, 48, 48)"
      ]
     },
     "execution_count": 8,
     "metadata": {},
     "output_type": "execute_result"
    }
   ],
   "source": [
    "X.shape"
   ]
  },
  {
   "cell_type": "code",
   "execution_count": 9,
   "metadata": {
    "scrolled": true
   },
   "outputs": [
    {
     "data": {
      "text/plain": [
       "(39209, 43)"
      ]
     },
     "execution_count": 9,
     "metadata": {},
     "output_type": "execute_result"
    }
   ],
   "source": [
    "Y.shape"
   ]
  },
  {
   "cell_type": "markdown",
   "metadata": {},
   "source": [
    "## FROM HERE"
   ]
  },
  {
   "cell_type": "code",
   "execution_count": 15,
   "metadata": {
    "collapsed": true
   },
   "outputs": [],
   "source": [
    "#“print the feature vector of the first sample, together with its label”"
   ]
  },
  {
   "cell_type": "code",
   "execution_count": 5,
   "metadata": {},
   "outputs": [
    {
     "data": {
      "text/plain": [
       "<matplotlib.image.AxesImage at 0x113cc5080>"
      ]
     },
     "execution_count": 5,
     "metadata": {},
     "output_type": "execute_result"
    },
    {
     "data": {
      "image/png": "[encoded data removed]",
      "text/plain": [
       "<Figure size 432x288 with 1 Axes>"
      ]
     },
     "metadata": {},
     "output_type": "display_data"
    }
   ],
   "source": [
    "plt.imshow(dataset.X[0,:,:,:].reshape(RESIZED_IMAGE))"
   ]
  },
  {
   "cell_type": "code",
   "execution_count": 6,
   "metadata": {},
   "outputs": [
    {
     "data": {
      "text/plain": [
       "matrix([[1., 0., 0., 0., 0., 0., 0., 0., 0., 0., 0., 0., 0., 0., 0., 0.,\n",
       "         0., 0., 0., 0., 0., 0., 0., 0., 0., 0., 0., 0., 0., 0., 0., 0.,\n",
       "         0., 0., 0., 0., 0., 0., 0., 0., 0., 0., 0.]], dtype=float32)"
      ]
     },
     "execution_count": 6,
     "metadata": {},
     "output_type": "execute_result"
    }
   ],
   "source": [
    "dataset.y[0,:]"
   ]
  },
  {
   "cell_type": "code",
   "execution_count": 7,
   "metadata": {},
   "outputs": [
    {
     "data": {
      "text/plain": [
       "<matplotlib.image.AxesImage at 0x1134cd5f8>"
      ]
     },
     "execution_count": 7,
     "metadata": {},
     "output_type": "execute_result"
    },
    {
     "data": {
      "image/png": "[encoded data removed]",
      "text/plain": [
       "<Figure size 432x288 with 1 Axes>"
      ]
     },
     "metadata": {},
     "output_type": "display_data"
    }
   ],
   "source": [
    "plt.imshow(dataset.X[-1,:,:,:].reshape(RESIZED_IMAGE))\n",
    "#convert from 32,32,1 to 32,32"
   ]
  },
  {
   "cell_type": "code",
   "execution_count": 8,
   "metadata": {
    "collapsed": true
   },
   "outputs": [],
   "source": [
    "from sklearn.model_selection import train_test_split\n"
   ]
  },
  {
   "cell_type": "code",
   "execution_count": 9,
   "metadata": {
    "collapsed": true
   },
   "outputs": [],
   "source": [
    "X_train, X_test, y_train, y_test = train_test_split(dataset.X, dataset.y, test_size=0.33, random_state=42)"
   ]
  },
  {
   "cell_type": "code",
   "execution_count": 10,
   "metadata": {},
   "outputs": [
    {
     "data": {
      "text/plain": [
       "(26270, 32, 32, 1)"
      ]
     },
     "execution_count": 10,
     "metadata": {},
     "output_type": "execute_result"
    }
   ],
   "source": [
    "X_train.shape"
   ]
  },
  {
   "cell_type": "code",
   "execution_count": 11,
   "metadata": {},
   "outputs": [
    {
     "data": {
      "text/plain": [
       "(12939, 32, 32, 1)"
      ]
     },
     "execution_count": 11,
     "metadata": {},
     "output_type": "execute_result"
    }
   ],
   "source": [
    "X_test.shape"
   ]
  },
  {
   "cell_type": "code",
   "execution_count": 12,
   "metadata": {},
   "outputs": [
    {
     "data": {
      "text/plain": [
       "(26270, 43)"
      ]
     },
     "execution_count": 12,
     "metadata": {},
     "output_type": "execute_result"
    }
   ],
   "source": [
    "y_train.shape"
   ]
  },
  {
   "cell_type": "code",
   "execution_count": 13,
   "metadata": {},
   "outputs": [
    {
     "data": {
      "text/plain": [
       "(12939, 43)"
      ]
     },
     "execution_count": 13,
     "metadata": {},
     "output_type": "execute_result"
    }
   ],
   "source": [
    "y_test.shape"
   ]
  },
  {
   "cell_type": "markdown",
   "metadata": {},
   "source": [
    "# Train the Model and Predict"
   ]
  },
  {
   "cell_type": "markdown",
   "metadata": {},
   "source": [
    "Function to create mini batch\n",
    "** observations, labels, and batch size as arguments and returns a minibatch generator"
   ]
  },
  {
   "cell_type": "code",
   "execution_count": 14,
   "metadata": {
    "collapsed": true
   },
   "outputs": [],
   "source": [
    "def minibatcher(X, y, batch_size, shuffle):\n",
    "  assert X.shape[0] == y.shape[0]\n",
    "  n_samples = X.shape[0]\n",
    "  \n",
    "  if shuffle:\n",
    "    idx = np.random.permutation(n_samples)\n",
    "  else:\n",
    "    idx = list(range(n_samples))\n",
    "  \n",
    "  for k in range(int(np.ceil(n_samples/batch_size))):\n",
    "    from_idx = k*batch_size\n",
    "    to_idx = (k+1)*batch_size\n",
    "    yield X[idx[from_idx:to_idx], :, :, :], y[idx[from_idx:to_idx], :]"
   ]
  },
  {
   "cell_type": "code",
   "execution_count": 15,
   "metadata": {},
   "outputs": [
    {
     "name": "stdout",
     "output_type": "stream",
     "text": [
      "(10000, 32, 32, 1) (10000, 43)\n",
      "(10000, 32, 32, 1) (10000, 43)\n",
      "(6270, 32, 32, 1) (6270, 43)\n"
     ]
    }
   ],
   "source": [
    "for mb in minibatcher(X_train, y_train, 10000, True):\n",
    "  print(mb[0].shape, mb[1].shape)"
   ]
  },
  {
   "cell_type": "code",
   "execution_count": 16,
   "metadata": {
    "collapsed": true
   },
   "outputs": [],
   "source": [
    "import tensorflow as tf"
   ]
  },
  {
   "cell_type": "markdown",
   "metadata": {},
   "source": [
    "# Initialize Weights and Bias"
   ]
  },
  {
   "cell_type": "markdown",
   "metadata": {},
   "source": [
    "Lets use “Xavier initialization for the coefficients (weights) and 0-initialization for the biases”"
   ]
  },
  {
   "cell_type": "markdown",
   "metadata": {},
   "source": [
    "￼Y = sigma(Wx+b)"
   ]
  },
  {
   "cell_type": "code",
   "execution_count": 17,
   "metadata": {
    "collapsed": true
   },
   "outputs": [],
   "source": [
    "def create_weights(shape):\n",
    "    return tf.Variable(tf.truncated_normal(shape, stddev=0.05))\n",
    "\n",
    "def create_biases(size):\n",
    "    return tf.Variable(tf.constant(0.05, shape=[size]))\n"
   ]
  },
  {
   "cell_type": "code",
   "execution_count": 18,
   "metadata": {
    "collapsed": true
   },
   "outputs": [],
   "source": [
    "def create_fc_layer(input,          \n",
    "             num_inputs,    \n",
    "             num_outputs,\n",
    "             use_relu=True):\n",
    "    \n",
    "    #Let's define trainable weights and biases.\n",
    "    weights = create_weights(shape=[num_inputs, num_outputs])\n",
    "    biases = create_biases(num_outputs)\n",
    " \n",
    "    layer = tf.matmul(input, weights) + biases\n",
    "    if use_relu:\n",
    "        layer = tf.nn.relu(layer)\n",
    " \n",
    "    return layer"
   ]
  },
  {
   "cell_type": "markdown",
   "metadata": {},
   "source": [
    "\n",
    "def create_fc_layer(input,          \n",
    "             num_inputs,    \n",
    "             num_outputs,\n",
    "             use_relu=True):\n",
    "    \n",
    "    #Let's define trainable weights and biases.\n",
    "    weights = create_weights(shape=[num_inputs, num_outputs])\n",
    "    biases = create_biases(num_outputs)\n",
    " \n",
    "    layer = tf.matmul(input, weights) + biases\n",
    "    if use_relu:\n",
    "        layer = tf.nn.relu(layer)\n",
    " \n",
    "    return layer\n",
    " tf.nn.max_pool(value=layer,\n",
    "                               ksize=[1, 2, 2, 1],\n",
    "                               strides=[1, 2, 2, 1],\n",
    "                               padding='SAME')\n",
    "                               \n",
    "Conv Layer\n",
    "    weights = create_weights(shape=[conv_filter_size, conv_filter_size, num_input_channels, num_filters])\n",
    "       We create biases using the create_biases function. These are also trained.\n",
    "    biases = create_biases(num_filters)\n",
    " \n",
    "        Creating the convolutional layer\n",
    "    layer = tf.nn.conv2d(input=input,\n",
    "                     filter=weights,\n",
    "                     strides=[1, 1, 1, 1],\n",
    "                     padding='SAME')\n",
    " \n",
    "    layer += biases\n",
    " \n",
    "        #We shall be using max-pooling.  \n",
    "    layer = tf.nn.max_pool(value=layer,\n",
    "                            ksize=[1, 2, 2, 1],\n",
    "                            strides=[1, 2, 2, 1],\n",
    "                            padding='SAME')\n",
    "        #Output of pooling is fed to Relu which is the activation function for us.\n",
    "    layer = tf.nn.relu(layer)\n",
    " \n",
    "    return layer"
   ]
  },
  {
   "cell_type": "code",
   "execution_count": 19,
   "metadata": {
    "collapsed": true
   },
   "outputs": [],
   "source": [
    "def fc_no_activation_layer(in_tensors, n_units):\n",
    "    w = tf.get_variable('fc_W', \n",
    "    [in_tensors.get_shape()[1], n_units],\n",
    "    tf.float32,\n",
    "    tf.contrib.layers.xavier_initializer())\n",
    "    b = tf.get_variable('fc_B',\n",
    "    [n_units, ],\n",
    "    tf.float32,\n",
    "    tf.constant_initializer(0.0))\n",
    "    return tf.matmul(in_tensors, w) + b\n",
    "def fc_layer(in_tensors, n_units):\n",
    "    return tf.nn.relu(fc_no_activation_layer(in_tensors, n_units))\n",
    "def maxpool_layer(in_tensors,sampling):\n",
    "    return tf.nn.max_pool(in_tensors,[1,sampling,sampling,1],[1,sampling,sampling,1],\"SAME\")\n",
    "#tf.nn.max_pool(value=layer,\n",
    "                              # ksize=[1, 2, 2, 1],\n",
    "                               #strides=[1, 2, 2, 1],\n",
    "                               #padding='SAME')\n",
    "\n",
    "# create_convolutional_layer(input,num_input_channels, conv_filter_size,num_filters): \n",
    "\n",
    "def conv_layer(in_tensors, kernel_size, n_units):\n",
    "    w = tf.get_variable('conv_W', \n",
    "    [kernel_size, kernel_size,in_tensors.get_shape()[3], n_units],\n",
    "    tf.float32,\n",
    "    tf.contrib.layers.xavier_initializer())\n",
    "    b = tf.get_variable('conv_B',\n",
    "    [n_units, ],\n",
    "    tf.float32,\n",
    "    tf.constant_initializer(0.0))\n",
    "    return tf.nn.relu(tf.nn.conv2d(in_tensors, w, [1, 1, 1, 1], 'SAME') + b)\n",
    "    \n",
    "    \n",
    "def dropout(in_tensors, keep_proba, is_training):\n",
    "    return tf.cond(is_training, lambda: tf.nn.dropout(in_tensors, keep_proba), lambda: in_tensors)\n",
    "  "
   ]
  },
  {
   "cell_type": "code",
   "execution_count": 20,
   "metadata": {
    "collapsed": true
   },
   "outputs": [],
   "source": [
    "def model(in_tensors, is_training):\n",
    "    # First layer: 5x5 2d-conv, 32 filters, 2x maxpool, 20% drouput\n",
    "    with tf.variable_scope('l1'):\n",
    "        l1 = maxpool_layer(conv_layer(in_tensors, 5, 32), 2)\n",
    "        l1_out = dropout(l1, 0.8, is_training)\n",
    "    #Second layer: 5x5 2d-conv, 64 filters, 2x maxpool, 20% drouput\n",
    "    with tf.variable_scope('l2'):\n",
    "        l2 = maxpool_layer(conv_layer(l1_out, 5, 64), 2)\n",
    "        l2_out = dropout(l1, 0.8, is_training)\n",
    "    \n",
    "    with tf.variable_scope('flatten'):\n",
    "        l2_out_flat = tf.layers.flatten(l2_out)\n",
    "    # Fully collected layer, 1024 neurons, 40% dropout \n",
    "    with tf.variable_scope(\"l3\"):\n",
    "        l3=fc_layer(l2_out_flat,1024)\n",
    "        l3_out = dropout(l3, 0.8, is_training)\n",
    "    # Output\n",
    "    with tf.variable_scope('out'):\n",
    "        out=fc_no_activation_layer(l3_out, N_CLASSES)\n",
    "    \n",
    "    return out\n",
    "        \n",
    "        "
   ]
  },
  {
   "cell_type": "code",
   "execution_count": 21,
   "metadata": {},
   "outputs": [
    {
     "name": "stdout",
     "output_type": "stream",
     "text": [
      "WARNING:tensorflow:From <ipython-input-21-29f0105ede65>:12: softmax_cross_entropy_with_logits (from tensorflow.python.ops.nn_ops) is deprecated and will be removed in a future version.\n",
      "Instructions for updating:\n",
      "\n",
      "Future major versions of TensorFlow will allow gradients to flow\n",
      "into the labels input on backprop by default.\n",
      "\n",
      "See @{tf.nn.softmax_cross_entropy_with_logits_v2}.\n",
      "\n",
      "Epoch= 0\n",
      " train_loss_score= 9.367118\n",
      "Epoch= 1\n",
      " train_loss_score= 0.5706269\n",
      "Epoch= 2\n",
      " train_loss_score= 0.3352243\n",
      "Epoch= 3\n",
      " train_loss_score= 0.22952546\n",
      "Epoch= 4\n",
      " train_loss_score= 0.17006966\n",
      "Epoch= 5\n",
      " train_loss_score= 0.13478582\n",
      "Epoch= 6\n",
      " train_loss_score= 0.112195\n",
      "Epoch= 7\n",
      " train_loss_score= 0.09246047\n",
      "Epoch= 8\n",
      " train_loss_score= 0.089384735\n",
      "Epoch= 9\n",
      " train_loss_score= 0.07909966\n",
      "TEST SET PERFORMANCE\n",
      " test_loss_score= 0.107170284\n",
      "             precision    recall  f1-score   support\n",
      "\n",
      "          0       0.94      0.95      0.94        61\n",
      "          1       0.99      0.94      0.96       763\n",
      "          2       0.93      0.99      0.96       750\n",
      "          3       0.91      0.97      0.94       466\n",
      "          4       0.97      0.98      0.98       672\n",
      "          5       0.98      0.90      0.94       629\n",
      "          6       1.00      0.99      1.00       120\n",
      "          7       0.97      0.97      0.97       444\n",
      "          8       0.95      0.99      0.97       510\n",
      "          9       0.99      0.98      0.99       481\n",
      "         10       1.00      0.97      0.98       619\n",
      "         11       0.99      0.99      0.99       397\n",
      "         12       0.97      0.99      0.98       718\n",
      "         13       1.00      0.99      1.00       712\n",
      "         14       0.99      0.99      0.99       273\n",
      "         15       0.96      0.98      0.97       198\n",
      "         16       1.00      1.00      1.00       145\n",
      "         17       0.99      0.99      0.99       360\n",
      "         18       0.97      0.98      0.98       390\n",
      "         19       0.91      0.99      0.94        69\n",
      "         20       0.87      0.97      0.92       108\n",
      "         21       0.96      0.97      0.96       115\n",
      "         22       0.99      0.98      0.99       135\n",
      "         23       1.00      0.91      0.95       179\n",
      "         24       1.00      0.97      0.98        88\n",
      "         25       0.99      0.96      0.97       489\n",
      "         26       0.97      0.96      0.96       187\n",
      "         27       0.95      0.95      0.95        82\n",
      "         28       0.99      0.99      0.99       170\n",
      "         29       0.88      0.98      0.93        98\n",
      "         30       0.99      0.99      0.99       152\n",
      "         31       1.00      0.98      0.99       269\n",
      "         32       1.00      1.00      1.00        68\n",
      "         33       0.99      0.99      0.99       236\n",
      "         34       0.99      0.99      0.99       144\n",
      "         35       0.99      0.99      0.99       386\n",
      "         36       1.00      1.00      1.00       138\n",
      "         37       1.00      0.99      0.99        79\n",
      "         38       0.98      0.99      0.98       688\n",
      "         39       0.99      0.98      0.98        87\n",
      "         40       0.97      0.96      0.97       113\n",
      "         41       0.99      1.00      0.99        78\n",
      "         42       0.99      0.95      0.97        73\n",
      "\n",
      "avg / total       0.98      0.97      0.97     12939\n",
      "\n"
     ]
    },
    {
     "data": {
      "image/png": "[encoded data removed]",
      "text/plain": [
       "<Figure size 432x288 with 2 Axes>"
      ]
     },
     "metadata": {},
     "output_type": "display_data"
    },
    {
     "data": {
      "image/png": "[encoded data removed]",
      "text/plain": [
       "<Figure size 432x288 with 2 Axes>"
      ]
     },
     "metadata": {},
     "output_type": "display_data"
    }
   ],
   "source": [
    "from sklearn.metrics import classification_report, confusion_matrix\n",
    "\n",
    "\n",
    "def train_model(X_train, y_train, X_test, y_test, learning_rate, max_epochs, batch_size):\n",
    "\n",
    "  in_X_tensors_batch = tf.placeholder(tf.float32, shape = (None, RESIZED_IMAGE[0], RESIZED_IMAGE[1], 1))\n",
    "  in_y_tensors_batch = tf.placeholder(tf.float32, shape = (None, N_CLASSES))\n",
    "  is_training = tf.placeholder(tf.bool)\n",
    "\n",
    "  logits = model(in_X_tensors_batch, is_training)\n",
    "  out_y_pred = tf.nn.softmax(logits)\n",
    "  loss_score = tf.nn.softmax_cross_entropy_with_logits(logits=logits, labels=in_y_tensors_batch)\n",
    "  loss = tf.reduce_mean(loss_score)\n",
    "  optimizer = tf.train.AdamOptimizer(learning_rate).minimize(loss)\n",
    "\n",
    "  with tf.Session() as session:\n",
    "    session.run(tf.global_variables_initializer())\n",
    "\n",
    "    for epoch in range(max_epochs):\n",
    "      print(\"Epoch=\", epoch)\n",
    "      tf_score = []\n",
    "      \n",
    "      for mb in minibatcher(X_train, y_train, batch_size, shuffle = True):\n",
    "        tf_output = session.run([optimizer, loss], \n",
    "                                feed_dict = {in_X_tensors_batch : mb[0], \n",
    "                                             in_y_tensors_batch : mb[1],\n",
    "                                             is_training : True})\n",
    "      \n",
    "        tf_score.append(tf_output[1])\n",
    "      print(\" train_loss_score=\", np.mean(tf_score))\n",
    "    \n",
    "    # after the training is done, time to test it on the test set\n",
    "    print(\"TEST SET PERFORMANCE\")\n",
    "    y_test_pred, test_loss  = session.run([out_y_pred, loss], \n",
    "                                          feed_dict = {in_X_tensors_batch : X_test, \n",
    "                                                       in_y_tensors_batch : y_test,\n",
    "                                                       is_training : False})\n",
    "    \n",
    "    print(\" test_loss_score=\", test_loss)\n",
    "    y_test_pred_classified = np.argmax(y_test_pred, axis=1).astype(np.int32)\n",
    "    y_test_true_classified = np.argmax(y_test, axis=1).astype(np.int32)\n",
    "    print(classification_report(y_test_true_classified, y_test_pred_classified))\n",
    "    \n",
    "    cm = confusion_matrix(y_test_true_classified, y_test_pred_classified)\n",
    "    \n",
    "    plt.imshow(cm, interpolation='nearest', cmap=plt.cm.Blues)\n",
    "    plt.colorbar()\n",
    "    plt.tight_layout()\n",
    "    plt.show()\n",
    "    \n",
    "    # And the log2 version, to enphasize the misclassifications\n",
    "    plt.imshow(np.log2(cm + 1), interpolation='nearest', cmap=plt.get_cmap(\"tab20\"))\n",
    "    plt.colorbar()\n",
    "    plt.tight_layout()\n",
    "    plt.show()\n",
    "\n",
    "\n",
    "tf.reset_default_graph()\n",
    "train_model(X_train, y_train, X_test, y_test, 0.001, 10, 256)"
   ]
  },
  {
   "cell_type": "code",
   "execution_count": null,
   "metadata": {
    "collapsed": true
   },
   "outputs": [],
   "source": []
  },
  {
   "cell_type": "code",
   "execution_count": null,
   "metadata": {
    "collapsed": true
   },
   "outputs": [],
   "source": []
  },
  {
   "cell_type": "code",
   "execution_count": null,
   "metadata": {
    "collapsed": true
   },
   "outputs": [],
   "source": []
  }
 ],
 "metadata": {
  "kernelspec": {
   "display_name": "Python 3",
   "language": "python",
   "name": "python3"
  },
  "language_info": {
   "codemirror_mode": {
    "name": "ipython",
    "version": 3
   },
   "file_extension": ".py",
   "mimetype": "text/x-python",
   "name": "python",
   "nbconvert_exporter": "python",
   "pygments_lexer": "ipython3",
   "version": "3.6.5"
  }
 },
 "nbformat": 4,
 "nbformat_minor": 2
}
