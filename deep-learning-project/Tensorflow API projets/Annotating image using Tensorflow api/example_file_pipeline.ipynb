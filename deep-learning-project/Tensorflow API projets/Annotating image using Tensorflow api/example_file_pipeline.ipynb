{
 "cells": [
  {
   "cell_type": "code",
   "execution_count": 3,
   "metadata": {
    "collapsed": true
   },
   "outputs": [],
   "source": [
    "# Image object detection"
   ]
  },
  {
   "cell_type": "code",
   "execution_count": 4,
   "metadata": {
    "collapsed": true
   },
   "outputs": [],
   "source": [
    "from tensorflow_detection import DetectionObj\n",
    "\n",
    "if __name__ == \"__main__\":\n",
    "    detection = DetectionObj(model='ssd_mobilenet_v1_coco_11_06_2017')\n",
    "\n",
    "    images = [\"./sample_images/intersection.jpg\", \"./sample_images/busy_street.jpg\", \"./sample_images/doge.jpg\"]\n",
    "    detection.file_pipeline(images)"
   ]
  },
  {
   "cell_type": "code",
   "execution_count": 5,
   "metadata": {
    "collapsed": true
   },
   "outputs": [],
   "source": [
    "# Video"
   ]
  },
  {
   "cell_type": "code",
   "execution_count": 6,
   "metadata": {},
   "outputs": [
    {
     "name": "stdout",
     "output_type": "stream",
     "text": [
      "Saving annotated video to ./sample_videos/annotated_ducks.mp4\n",
      "[MoviePy] >>>> Building video ./sample_videos/annotated_ducks.mp4\n",
      "[MoviePy] Writing video ./sample_videos/annotated_ducks.mp4\n"
     ]
    },
    {
     "name": "stderr",
     "output_type": "stream",
     "text": [
      "100%|██████████| 1358/1358 [03:50<00:00,  5.88it/s]\n"
     ]
    },
    {
     "name": "stdout",
     "output_type": "stream",
     "text": [
      "[MoviePy] Done.\n",
      "[MoviePy] >>>> Video ready: ./sample_videos/annotated_ducks.mp4 \n",
      "\n"
     ]
    }
   ],
   "source": [
    "from tensorflow_detection import DetectionObj\n",
    "\n",
    "if __name__ == \"__main__\":\n",
    "    detection = DetectionObj(model='ssd_mobilenet_v1_coco_11_06_2017')\n",
    "\n",
    "    detection.video_pipeline(video=\"./sample_videos/ducks.mp4\", audio=False)"
   ]
  },
  {
   "cell_type": "code",
   "execution_count": null,
   "metadata": {
    "collapsed": true
   },
   "outputs": [],
   "source": [
    "#Webcam"
   ]
  },
  {
   "cell_type": "code",
   "execution_count": 7,
   "metadata": {},
   "outputs": [
    {
     "name": "stdout",
     "output_type": "stream",
     "text": [
      "Setting the webcam\n",
      "Now taking a snapshot ... Done\n"
     ]
    }
   ],
   "source": [
    "from tensorflow_detection import DetectionObj\n",
    "\n",
    "if __name__ == \"__main__\":\n",
    "    detection = DetectionObj(model='ssd_mobilenet_v1_coco_11_06_2017')\n",
    "\n",
    "    detection.webcam_pipeline()"
   ]
  },
  {
   "cell_type": "code",
   "execution_count": null,
   "metadata": {
    "collapsed": true
   },
   "outputs": [],
   "source": []
  }
 ],
 "metadata": {
  "kernelspec": {
   "display_name": "Python 3",
   "language": "python",
   "name": "python3"
  },
  "language_info": {
   "codemirror_mode": {
    "name": "ipython",
    "version": 3
   },
   "file_extension": ".py",
   "mimetype": "text/x-python",
   "name": "python",
   "nbconvert_exporter": "python",
   "pygments_lexer": "ipython3",
   "version": "3.6.5"
  }
 },
 "nbformat": 4,
 "nbformat_minor": 2
}
