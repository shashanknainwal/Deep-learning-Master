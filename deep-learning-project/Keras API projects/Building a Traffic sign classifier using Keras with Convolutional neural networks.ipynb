{
 "cells": [
  {
   "cell_type": "code",
   "execution_count": 1,
   "metadata": {
    "collapsed": true
   },
   "outputs": [],
   "source": [
    "import matplotlib.pyplot as plt\n",
    "import glob\n",
    "from skimage.color import rgb2lab\n",
    "from skimage.transform import resize\n",
    "from collections import namedtuple\n",
    "import numpy as np\n",
    "np.random.seed(101)\n",
    "%matplotlib inline\n",
    "\n"
   ]
  },
  {
   "cell_type": "code",
   "execution_count": 2,
   "metadata": {},
   "outputs": [
    {
     "name": "stdout",
     "output_type": "stream",
     "text": [
      "\n",
      "Image Shape: (32, 32, 3)\n",
      "\n",
      "Training Set:   34799 samples\n",
      "Validation Set: 4410 samples\n",
      "Test Set:       12630 samples\n"
     ]
    }
   ],
   "source": [
    "import pickle\n",
    "import os\n",
    "\n",
    "training_file = 'train.p'\n",
    "validation_file= 'valid.p'\n",
    "testing_file = 'test.p'\n",
    "\n",
    "with open(training_file, mode='rb') as f:\n",
    "    train = pickle.load(f)\n",
    "with open(validation_file, mode='rb') as f:\n",
    "    valid = pickle.load(f)\n",
    "with open(testing_file, mode='rb') as f:\n",
    "    test = pickle.load(f)\n",
    "    \n",
    "X_train, y_train = train['features'], train['labels']\n",
    "X_valid, y_valid = valid['features'], valid['labels']\n",
    "X_test, y_test = test['features'], test['labels']\n",
    "\n",
    "assert(len(X_train) == len(y_train))\n",
    "assert(len(X_valid) == len(y_valid))\n",
    "assert(len(X_test) == len(y_test))\n",
    "\n",
    "print()\n",
    "print(\"Image Shape: {}\".format(X_train[0].shape))\n",
    "print()\n",
    "print(\"Training Set:   {} samples\".format(len(X_train)))\n",
    "print(\"Validation Set: {} samples\".format(len(X_valid)))\n",
    "print(\"Test Set:       {} samples\".format(len(X_test)))"
   ]
  },
  {
   "cell_type": "code",
   "execution_count": 3,
   "metadata": {
    "collapsed": true
   },
   "outputs": [],
   "source": [
    "### Preprocess the data here.\n",
    "import cv2\n",
    "import numpy as np \n",
    "\n",
    "# All the images were also Transform to grayscale, since the accuracy of the model was higher this way (and it shorten the model runtime)\n",
    "# from shape (32,32,3) to (32,32,1)\n",
    "def gray_scale(X_input):\n",
    "    X_output = np.zeros((len(X_input),32,32,1))\n",
    "    for i in range(len(X_input)):\n",
    "        img = X_input[i].squeeze()\n",
    "        img=img.astype(np.uint8)\n",
    "        X_output[i,:,:,0] = cv2.cvtColor(img, cv2.COLOR_BGR2GRAY)\n",
    "    return X_output\n"
   ]
  },
  {
   "cell_type": "code",
   "execution_count": 4,
   "metadata": {},
   "outputs": [
    {
     "name": "stdout",
     "output_type": "stream",
     "text": [
      "(34799, 32, 32, 1)\n",
      "(4410, 32, 32, 1)\n",
      "(12630, 32, 32, 1)\n"
     ]
    }
   ],
   "source": [
    "# Transform to gray\n",
    "X_train_gray = gray_scale(X_train)\n",
    "X_valid_gray = gray_scale(X_valid)\n",
    "X_test_gray = gray_scale(X_test)\n",
    "\n",
    "print(X_train_gray.shape)\n",
    "print(X_valid_gray.shape)\n",
    "print(X_test_gray.shape)\n"
   ]
  },
  {
   "cell_type": "code",
   "execution_count": 5,
   "metadata": {
    "collapsed": true
   },
   "outputs": [],
   "source": [
    "# Normalize images to [0,1]\n",
    "X_train_norm= X_train_gray /255\n",
    "X_valid_norm= X_valid_gray /255\n",
    "X_test_norm= X_test_gray /255\n",
    "# Shuffle \n",
    "from sklearn.utils import shuffle\n",
    "X_train_shuffle, y_train_shuffle = shuffle(X_train_norm, y_train)\n",
    "X_test_ready, y_test_ready = shuffle (X_test_norm, y_test)\n",
    "\n",
    "\n",
    "# Split training and validation\n",
    "n_train=len(X_train_shuffle)\n",
    "limRange = int(n_train*0.8)\n",
    "\n",
    "X_train_ready = (X_train_shuffle[0:limRange+1])\n",
    "X_valid_ready = (X_train_shuffle[limRange+1:n_train+1])\n",
    "y_train_ready = y_train_shuffle[0:limRange+1]\n",
    "y_valid_ready = y_train_shuffle[limRange+1:n_train+1]\n"
   ]
  },
  {
   "cell_type": "code",
   "execution_count": 6,
   "metadata": {},
   "outputs": [
    {
     "name": "stderr",
     "output_type": "stream",
     "text": [
      "Using TensorFlow backend.\n"
     ]
    }
   ],
   "source": [
    "from keras.utils import np_utils"
   ]
  },
  {
   "cell_type": "code",
   "execution_count": 7,
   "metadata": {
    "collapsed": true
   },
   "outputs": [],
   "source": [
    "y_train_ready= np_utils.to_categorical(y_train_ready, 43)\n",
    "y_valid_ready=np_utils.to_categorical(y_valid_ready, 43)"
   ]
  },
  {
   "cell_type": "code",
   "execution_count": 35,
   "metadata": {
    "collapsed": true
   },
   "outputs": [],
   "source": [
    "y_test_ready=np_utils.to_categorical(y_test_ready, 43)"
   ]
  },
  {
   "cell_type": "code",
   "execution_count": 8,
   "metadata": {},
   "outputs": [
    {
     "data": {
      "text/plain": [
       "(27840, 32, 32, 1)"
      ]
     },
     "execution_count": 8,
     "metadata": {},
     "output_type": "execute_result"
    }
   ],
   "source": [
    "\n",
    "X_train_ready.shape"
   ]
  },
  {
   "cell_type": "code",
   "execution_count": 9,
   "metadata": {},
   "outputs": [
    {
     "data": {
      "text/plain": [
       "(32, 32, 1)"
      ]
     },
     "execution_count": 9,
     "metadata": {},
     "output_type": "execute_result"
    }
   ],
   "source": [
    "X_train_ready.shape[1:]"
   ]
  },
  {
   "cell_type": "code",
   "execution_count": 10,
   "metadata": {
    "collapsed": true
   },
   "outputs": [],
   "source": [
    "X_train_ready = np.transpose(X_train_ready, (0,3, 1, 2))"
   ]
  },
  {
   "cell_type": "code",
   "execution_count": 29,
   "metadata": {
    "collapsed": true
   },
   "outputs": [],
   "source": [
    "X_valid_ready = np.transpose(X_valid_ready, (0,3, 1, 2))"
   ]
  },
  {
   "cell_type": "code",
   "execution_count": 33,
   "metadata": {
    "collapsed": true
   },
   "outputs": [],
   "source": [
    "X_test_ready = np.transpose(X_test_ready, (0,3, 1, 2))"
   ]
  },
  {
   "cell_type": "code",
   "execution_count": 11,
   "metadata": {},
   "outputs": [
    {
     "data": {
      "text/plain": [
       "(27840, 1, 32, 32)"
      ]
     },
     "execution_count": 11,
     "metadata": {},
     "output_type": "execute_result"
    }
   ],
   "source": [
    "X_train_ready.shape"
   ]
  },
  {
   "cell_type": "code",
   "execution_count": 16,
   "metadata": {},
   "outputs": [
    {
     "data": {
      "text/plain": [
       "(1, 32, 32)"
      ]
     },
     "execution_count": 16,
     "metadata": {},
     "output_type": "execute_result"
    }
   ],
   "source": [
    "X_train_ready.shape[1:]"
   ]
  },
  {
   "cell_type": "code",
   "execution_count": 17,
   "metadata": {
    "collapsed": true
   },
   "outputs": [],
   "source": [
    "from keras.models import Sequential\n",
    "from keras.layers import Dense, Conv2D, MaxPooling2D, Dropout, Flatten\n",
    "from keras import backend as K\n",
    " \n",
    "def createModel():\n",
    "    model = Sequential()\n",
    "    model.add(Conv2D(6, (5, 5), padding='VALID', input_shape=X_train_ready.shape[1:]))\n",
    "    model.add(MaxPooling2D(pool_size=(2, 2)))\n",
    "    model.add(Activation(\"relu\"))\n",
    "    model.add(Conv2D(16, (5, 5), padding='VALID'))\n",
    "   \n",
    "    model.add(MaxPooling2D(pool_size=(2, 2)))\n",
    "    model.add(Activation(\"relu\"))\n",
    "    model.add(Flatten())\n",
    "    model.add(Dense(120, activation='relu'))\n",
    "    model.add(Dropout(0.2))\n",
    "    model.add(Dense(84, activation='relu'))\n",
    "    model.add(Dropout(0.2))\n",
    "    model.add(Dense(43, activation='softmax'))\n",
    "    return model"
   ]
  },
  {
   "cell_type": "code",
   "execution_count": null,
   "metadata": {
    "collapsed": true
   },
   "outputs": [],
   "source": [
    "from keras import backend as K\n",
    "K.set_image_dim_ordering('th')"
   ]
  },
  {
   "cell_type": "code",
   "execution_count": 25,
   "metadata": {},
   "outputs": [
    {
     "name": "stdout",
     "output_type": "stream",
     "text": [
      "WARNING:tensorflow:From /anaconda/lib/python3.6/site-packages/keras/backend/tensorflow_backend.py:2745: calling reduce_sum (from tensorflow.python.ops.math_ops) with keep_dims is deprecated and will be removed in a future version.\n",
      "Instructions for updating:\n",
      "keep_dims is deprecated, use keepdims instead\n",
      "WARNING:tensorflow:From /anaconda/lib/python3.6/site-packages/keras/backend/tensorflow_backend.py:1299: calling reduce_mean (from tensorflow.python.ops.math_ops) with keep_dims is deprecated and will be removed in a future version.\n",
      "Instructions for updating:\n",
      "keep_dims is deprecated, use keepdims instead\n"
     ]
    }
   ],
   "source": [
    "model1 = createModel()\n",
    "batch_size = 256\n",
    "epochs = 10\n",
    "model1.compile(optimizer='rmsprop', loss='categorical_crossentropy', metrics=['accuracy'])\n",
    " \n"
   ]
  },
  {
   "cell_type": "code",
   "execution_count": 30,
   "metadata": {},
   "outputs": [
    {
     "name": "stdout",
     "output_type": "stream",
     "text": [
      "Train on 27840 samples, validate on 6959 samples\n",
      "Epoch 1/10\n",
      "27840/27840 [==============================] - 48s - loss: 3.2350 - acc: 0.1492 - val_loss: 2.5999 - val_acc: 0.3580\n",
      "Epoch 2/10\n",
      "27840/27840 [==============================] - 50s - loss: 2.2406 - acc: 0.3761 - val_loss: 1.6099 - val_acc: 0.5606\n",
      "Epoch 3/10\n",
      "27840/27840 [==============================] - 51s - loss: 1.5424 - acc: 0.5366 - val_loss: 1.0391 - val_acc: 0.7370\n",
      "Epoch 4/10\n",
      "27840/27840 [==============================] - 49s - loss: 1.1009 - acc: 0.6710 - val_loss: 0.6934 - val_acc: 0.7993\n",
      "Epoch 5/10\n",
      "27840/27840 [==============================] - 51s - loss: 0.8081 - acc: 0.7585 - val_loss: 0.5007 - val_acc: 0.8825\n",
      "Epoch 6/10\n",
      "27840/27840 [==============================] - 47s - loss: 0.6229 - acc: 0.8119 - val_loss: 0.4168 - val_acc: 0.8869\n",
      "Epoch 7/10\n",
      "27840/27840 [==============================] - 45s - loss: 0.4996 - acc: 0.8520 - val_loss: 0.2931 - val_acc: 0.9294\n",
      "Epoch 8/10\n",
      "27840/27840 [==============================] - 46s - loss: 0.4092 - acc: 0.8774 - val_loss: 0.2277 - val_acc: 0.9441\n",
      "Epoch 9/10\n",
      "27840/27840 [==============================] - 45s - loss: 0.3426 - acc: 0.8981 - val_loss: 0.2229 - val_acc: 0.9470\n",
      "Epoch 10/10\n",
      "27840/27840 [==============================] - 46s - loss: 0.2924 - acc: 0.9147 - val_loss: 0.1830 - val_acc: 0.9511\n"
     ]
    },
    {
     "data": {
      "text/plain": [
       "<keras.callbacks.History at 0x1776f96a0>"
      ]
     },
     "execution_count": 30,
     "metadata": {},
     "output_type": "execute_result"
    }
   ],
   "source": [
    "model1.fit(X_train_ready, y_train_ready,\n",
    "          batch_size=batch_size,\n",
    "          epochs=epochs,\n",
    "          verbose=1,\n",
    "          validation_data=(X_valid_ready, y_valid_ready))"
   ]
  },
  {
   "cell_type": "code",
   "execution_count": 36,
   "metadata": {},
   "outputs": [
    {
     "name": "stdout",
     "output_type": "stream",
     "text": [
      "Test loss: 0.48233350260995816\n",
      "Test accuracy: 0.8846397466255574\n"
     ]
    }
   ],
   "source": [
    "score = model1.evaluate(X_test_ready, y_test_ready, verbose=0)\n",
    "print('Test loss:', score[0])\n",
    "print('Test accuracy:', score[1])"
   ]
  },
  {
   "cell_type": "markdown",
   "metadata": {},
   "source": [
    "Augment the images\n",
    "train_datagen = ImageDataGenerator(\n",
    "    rescale=1. / 255,\n",
    "    shear_range=0.2,\n",
    "    zoom_range=0.2,\n",
    "    horizontal_flip=True)\n",
    "\n",
    "test_datagen = ImageDataGenerator(rescale=1. / 255)\n",
    "\n",
    "train_generator = train_datagen.flow_from_directory(\n",
    "    train_data_dir,\n",
    "    target_size=(img_width, img_height),\n",
    "    batch_size=batch_size,\n",
    "    class_mode='binary')\n",
    "\n",
    "validation_generator = test_datagen.flow_from_directory(\n",
    "    validation_data_dir,\n",
    "    target_size=(img_width, img_height),\n",
    "    batch_size=batch_size,\n",
    "    class_mode='binary')\n",
    "\n",
    "model.fit_generator(\n",
    "    train_generator,\n",
    "    steps_per_epoch=nb_train_samples // batch_size,\n",
    "    epochs=epochs,\n",
    "    validation_data=validation_generator,\n",
    "    validation_steps=nb_validation_samples // batch_size)\n",
    "\n",
    "model.save_weights('classifier.h5')"
   ]
  }
 ],
 "metadata": {
  "kernelspec": {
   "display_name": "Python 3",
   "language": "python",
   "name": "python3"
  },
  "language_info": {
   "codemirror_mode": {
    "name": "ipython",
    "version": 3
   },
   "file_extension": ".py",
   "mimetype": "text/x-python",
   "name": "python",
   "nbconvert_exporter": "python",
   "pygments_lexer": "ipython3",
   "version": "3.6.5"
  }
 },
 "nbformat": 4,
 "nbformat_minor": 2
}
